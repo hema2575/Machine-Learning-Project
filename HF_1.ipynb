{
 "cells": [
  {
   "cell_type": "code",
   "execution_count": 15,
   "metadata": {},
   "outputs": [],
   "source": [
    "import os, sys\n",
    "import numpy as np\n",
    "import pandas as pd\n",
    "import seaborn as sns\n",
    "import matplotlib.pyplot as plt\n",
    "from matplotlib import pyplot as plt\n",
    "from itertools import cycle, islice\n",
    "\n",
    "from scipy import interp\n",
    "\n",
    "from xgboost import XGBClassifier\n",
    "from xgboost import plot_importance\n",
    "\n",
    "from sklearn import datasets, metrics, model_selection, svm\n",
    "from sklearn.metrics import auc\n",
    "\n",
    "from sklearn.metrics import roc_auc_score\n",
    "from sklearn.metrics import roc_curve, auc\n",
    "from sklearn.metrics import plot_roc_curve\n",
    "from sklearn.metrics import accuracy_score\n",
    "from sklearn.metrics import classification_report\n",
    "from sklearn.metrics import confusion_matrix\n",
    "\n",
    "from sklearn.model_selection import train_test_split\n",
    "from sklearn.model_selection import StratifiedKFold\n",
    "\n",
    "from sklearn.linear_model import LogisticRegression\n",
    "from sklearn.linear_model import LinearRegression\n",
    "\n",
    "from sklearn.preprocessing import MinMaxScaler\n",
    "from sklearn.preprocessing import StandardScaler\n",
    "from sklearn.preprocessing import label_binarize\n",
    "from sklearn.preprocessing import LabelEncoder\n",
    "\n",
    "from sklearn.multiclass import OneVsRestClassifier\n",
    "from sklearn.ensemble import RandomForestClassifier\n",
    "from sklearn.neighbors import KNeighborsClassifier\n",
    "from sklearn.svm import SVC"
   ]
  },
  {
   "cell_type": "code",
   "execution_count": 2,
   "metadata": {},
   "outputs": [],
   "source": [
    "%matplotlib inline"
   ]
  },
  {
   "cell_type": "code",
   "execution_count": 3,
   "metadata": {},
   "outputs": [],
   "source": [
    "hf_df=pd.read_csv(r'C:\\Users\\muthukumar\\Desktop\\005_SaveNWBCSHere\\03_Activities&HW\\Project_3\\BC_Data\\HF.csv')\n",
    "hf_df = hf_df.dropna()\n",
    "#hf_df.head()"
   ]
  },
  {
   "cell_type": "code",
   "execution_count": 4,
   "metadata": {},
   "outputs": [],
   "source": [
    "hf_df = hf_df.apply(pd.to_numeric)\n",
    "hf_df['age'] = hf_df['age'].astype('int64')\n",
    "hf_df['platelets'] = hf_df['platelets'].astype('int64')\n",
    "hf_df['serum_creatinine'] = hf_df['serum_creatinine'].astype('int64')\n",
    "#hf_df.info()"
   ]
  },
  {
   "cell_type": "code",
   "execution_count": 5,
   "metadata": {},
   "outputs": [],
   "source": [
    "features=hf_df.loc[:,hf_df.columns!='DEATH_EVENT'].values[:,1:]\n",
    "target=hf_df.loc[:,'DEATH_EVENT'].values"
   ]
  },
  {
   "cell_type": "code",
   "execution_count": 6,
   "metadata": {},
   "outputs": [
    {
     "data": {
      "text/plain": [
       "array([[   0,  582,    0, ...,    1,    0,    4],\n",
       "       [   0, 7861,    0, ...,    1,    0,    6],\n",
       "       [   0,  146,    0, ...,    1,    1,    7],\n",
       "       ...,\n",
       "       [   0, 2060,    1, ...,    0,    0,  278],\n",
       "       [   0, 2413,    0, ...,    1,    1,  280],\n",
       "       [   0,  196,    0, ...,    1,    1,  285]], dtype=int64)"
      ]
     },
     "execution_count": 6,
     "metadata": {},
     "output_type": "execute_result"
    }
   ],
   "source": [
    "features"
   ]
  },
  {
   "cell_type": "code",
   "execution_count": 7,
   "metadata": {},
   "outputs": [
    {
     "data": {
      "text/plain": [
       "array([1, 1, 1, 1, 1, 1, 1, 1, 1, 1, 1, 1, 1, 1, 0, 1, 1, 1, 1, 1, 0, 1,\n",
       "       1, 0, 1, 1, 1, 1, 1, 1, 1, 1, 1, 0, 1, 1, 1, 1, 0, 1, 1, 1, 1, 0,\n",
       "       1, 1, 1, 1, 1, 1, 1, 1, 1, 1, 1, 1, 0, 0, 1, 1, 1, 1, 0, 1, 0, 1,\n",
       "       1, 1, 1, 1, 0, 0, 1, 0, 1, 1, 0, 0, 0, 0, 0, 0, 1, 0, 1, 0, 0, 0,\n",
       "       0, 0, 0, 0, 0, 1, 0, 0, 0, 0, 0, 0, 0, 0, 0, 0, 0, 1, 0, 0, 0, 0,\n",
       "       1, 0, 0, 1, 0, 0, 0, 0, 0, 1, 0, 0, 0, 0, 1, 0, 1, 0, 0, 0, 0, 0,\n",
       "       0, 0, 0, 0, 0, 0, 0, 0, 1, 0, 0, 0, 1, 0, 0, 0, 1, 0, 1, 0, 0, 0,\n",
       "       0, 0, 0, 0, 0, 0, 0, 0, 0, 1, 1, 1, 0, 1, 0, 0, 0, 0, 0, 0, 0, 0,\n",
       "       0, 0, 0, 0, 0, 1, 1, 1, 1, 1, 1, 1, 0, 0, 0, 0, 0, 0, 1, 1, 0, 0,\n",
       "       0, 0, 0, 0, 0, 0, 0, 0, 0, 0, 0, 0, 0, 0, 0, 1, 0, 0, 0, 1, 0, 0,\n",
       "       1, 0, 0, 0, 0, 0, 0, 0, 0, 0, 1, 0, 0, 0, 0, 0, 0, 0, 0, 0, 0, 0,\n",
       "       0, 0, 0, 0, 1, 0, 0, 0, 0, 0, 0, 0, 0, 0, 0, 0, 0, 0, 0, 0, 1, 0,\n",
       "       0, 0, 1, 0, 0, 0, 0, 0, 0, 0, 0, 0, 0, 0, 0, 0, 0, 0, 0, 0, 0, 0,\n",
       "       0, 0, 0, 0, 0, 0, 0, 0, 0, 0, 0, 0, 0], dtype=int64)"
      ]
     },
     "execution_count": 7,
     "metadata": {},
     "output_type": "execute_result"
    }
   ],
   "source": [
    "target"
   ]
  },
  {
   "cell_type": "code",
   "execution_count": 8,
   "metadata": {},
   "outputs": [],
   "source": [
    "scaler=MinMaxScaler((-1,1))\n",
    "x=scaler.fit_transform(features)\n",
    "y=target"
   ]
  },
  {
   "cell_type": "code",
   "execution_count": 9,
   "metadata": {},
   "outputs": [
    {
     "data": {
      "text/plain": [
       "array([[-1.        , -0.85736157, -1.        , ...,  1.        ,\n",
       "        -1.        , -1.        ],\n",
       "       [-1.        ,  1.        , -1.        , ...,  1.        ,\n",
       "        -1.        , -0.98576512],\n",
       "       [-1.        , -0.96861444, -1.        , ...,  1.        ,\n",
       "         1.        , -0.97864769],\n",
       "       ...,\n",
       "       [-1.        , -0.48022455,  1.        , ..., -1.        ,\n",
       "        -1.        ,  0.95017794],\n",
       "       [-1.        , -0.39015055, -1.        , ...,  1.        ,\n",
       "         1.        ,  0.96441281],\n",
       "       [-1.        , -0.95585609, -1.        , ...,  1.        ,\n",
       "         1.        ,  1.        ]])"
      ]
     },
     "execution_count": 9,
     "metadata": {},
     "output_type": "execute_result"
    }
   ],
   "source": [
    "x\n",
    "#len(x)"
   ]
  },
  {
   "cell_type": "code",
   "execution_count": 10,
   "metadata": {},
   "outputs": [
    {
     "data": {
      "text/plain": [
       "299"
      ]
     },
     "execution_count": 10,
     "metadata": {},
     "output_type": "execute_result"
    }
   ],
   "source": [
    "y\n",
    "len(y)"
   ]
  },
  {
   "cell_type": "code",
   "execution_count": 11,
   "metadata": {},
   "outputs": [],
   "source": [
    "x_train,x_test,y_train,y_test = train_test_split(x, y, test_size=0.3, random_state=7)"
   ]
  },
  {
   "cell_type": "code",
   "execution_count": 44,
   "metadata": {},
   "outputs": [],
   "source": [
    "#use_label_encoder =False"
   ]
  },
  {
   "cell_type": "code",
   "execution_count": 12,
   "metadata": {},
   "outputs": [
    {
     "data": {
      "text/plain": [
       "90"
      ]
     },
     "execution_count": 12,
     "metadata": {},
     "output_type": "execute_result"
    }
   ],
   "source": [
    "# Label-encode data set\n",
    "label_encoder = LabelEncoder()\n",
    "label_encoder.fit(y_test)\n",
    "encoded_y = label_encoder.transform(y_test)\n",
    "encoded_y\n",
    "len(encoded_y)"
   ]
  },
  {
   "cell_type": "code",
   "execution_count": 16,
   "metadata": {},
   "outputs": [
    {
     "name": "stdout",
     "output_type": "stream",
     "text": [
      "[0]\tvalidation_0-auc:0.94749\tvalidation_1-auc:0.86123\n",
      "[1]\tvalidation_0-auc:0.98387\tvalidation_1-auc:0.88800\n",
      "[2]\tvalidation_0-auc:0.98102\tvalidation_1-auc:0.88646\n",
      "[3]\tvalidation_0-auc:0.98632\tvalidation_1-auc:0.88646\n",
      "[4]\tvalidation_0-auc:0.98816\tvalidation_1-auc:0.88831\n",
      "[5]\tvalidation_0-auc:0.99178\tvalidation_1-auc:0.88892\n",
      "[6]\tvalidation_0-auc:0.99536\tvalidation_1-auc:0.88062\n",
      "[7]\tvalidation_0-auc:0.99714\tvalidation_1-auc:0.88000\n",
      "[8]\tvalidation_0-auc:0.99775\tvalidation_1-auc:0.88615\n",
      "[9]\tvalidation_0-auc:0.99888\tvalidation_1-auc:0.88492\n",
      "[10]\tvalidation_0-auc:0.99888\tvalidation_1-auc:0.89908\n",
      "[11]\tvalidation_0-auc:0.99959\tvalidation_1-auc:0.90215\n",
      "[12]\tvalidation_0-auc:0.99969\tvalidation_1-auc:0.90215\n",
      "[13]\tvalidation_0-auc:0.99969\tvalidation_1-auc:0.90031\n",
      "[14]\tvalidation_0-auc:0.99969\tvalidation_1-auc:0.90215\n",
      "[15]\tvalidation_0-auc:0.99969\tvalidation_1-auc:0.90646\n",
      "[16]\tvalidation_0-auc:1.00000\tvalidation_1-auc:0.90092\n",
      "[17]\tvalidation_0-auc:1.00000\tvalidation_1-auc:0.90031\n",
      "[18]\tvalidation_0-auc:1.00000\tvalidation_1-auc:0.90338\n",
      "[19]\tvalidation_0-auc:1.00000\tvalidation_1-auc:0.90400\n",
      "[20]\tvalidation_0-auc:1.00000\tvalidation_1-auc:0.90831\n",
      "[21]\tvalidation_0-auc:1.00000\tvalidation_1-auc:0.90646\n",
      "[22]\tvalidation_0-auc:1.00000\tvalidation_1-auc:0.90646\n",
      "[23]\tvalidation_0-auc:1.00000\tvalidation_1-auc:0.90769\n",
      "[24]\tvalidation_0-auc:1.00000\tvalidation_1-auc:0.90585\n",
      "[25]\tvalidation_0-auc:1.00000\tvalidation_1-auc:0.90092\n",
      "[26]\tvalidation_0-auc:1.00000\tvalidation_1-auc:0.89969\n"
     ]
    },
    {
     "name": "stderr",
     "output_type": "stream",
     "text": [
      "C:\\Users\\muthukumar\\anaconda3\\lib\\site-packages\\xgboost\\sklearn.py:888: UserWarning: The use of label encoder in XGBClassifier is deprecated and will be removed in a future release. To remove this warning, do the following: 1) Pass option use_label_encoder=False when constructing XGBClassifier object; and 2) Encode your labels (y) as integers starting with 0, i.e. 0, 1, 2, ..., [num_class - 1].\n",
      "  warnings.warn(label_encoder_deprecation_msg, UserWarning)\n"
     ]
    },
    {
     "name": "stdout",
     "output_type": "stream",
     "text": [
      "[27]\tvalidation_0-auc:1.00000\tvalidation_1-auc:0.90092\n",
      "[28]\tvalidation_0-auc:1.00000\tvalidation_1-auc:0.90092\n",
      "[29]\tvalidation_0-auc:1.00000\tvalidation_1-auc:0.90092\n",
      "[30]\tvalidation_0-auc:1.00000\tvalidation_1-auc:0.89908\n",
      "[31]\tvalidation_0-auc:1.00000\tvalidation_1-auc:0.89908\n",
      "[32]\tvalidation_0-auc:1.00000\tvalidation_1-auc:0.90154\n",
      "[33]\tvalidation_0-auc:1.00000\tvalidation_1-auc:0.90154\n",
      "[34]\tvalidation_0-auc:1.00000\tvalidation_1-auc:0.90154\n",
      "[35]\tvalidation_0-auc:1.00000\tvalidation_1-auc:0.90338\n",
      "[36]\tvalidation_0-auc:1.00000\tvalidation_1-auc:0.90338\n",
      "[37]\tvalidation_0-auc:1.00000\tvalidation_1-auc:0.90215\n",
      "[38]\tvalidation_0-auc:1.00000\tvalidation_1-auc:0.90154\n",
      "[39]\tvalidation_0-auc:1.00000\tvalidation_1-auc:0.90092\n",
      "0.8444444444444444\n",
      "\n",
      "\n",
      "Accuracy of the prediction using XGBClassifier:84.44444444444444\n",
      "\n",
      "\n",
      "Classification Report of XGBClassifier:\n",
      "\n",
      "              precision    recall  f1-score   support\n",
      "\n",
      "           0       0.88      0.91      0.89        65\n",
      "           1       0.74      0.68      0.71        25\n",
      "\n",
      "    accuracy                           0.84        90\n",
      "   macro avg       0.81      0.79      0.80        90\n",
      "weighted avg       0.84      0.84      0.84        90\n",
      "\n"
     ]
    }
   ],
   "source": [
    "# Build XGB model\n",
    "\n",
    "xgb_model=XGBClassifier()\n",
    "#xgb_model.fit(x_train,y_train)\n",
    "xgb_model.fit(x_train, y_train, eval_set= [(x_train, y_train),(x_test, y_test)], eval_metric='auc', early_stopping_rounds=20, verbose=True) \n",
    "target_pred_xgb=xgb_model.predict(x_test)\n",
    "xgb_score = xgb_model.score(x_test, encoded_y)\n",
    "print(xgb_score)\n",
    "print(\"\\n\")\n",
    "print('Accuracy of the prediction using XGBClassifier:' + str(accuracy_score(encoded_y, target_pred_xgb)*100))\n",
    "print(\"\\n\")\n",
    "# Death_Event 0 -not-fatal, 1-fatal\n",
    "print('Classification Report of XGBClassifier:' + \"\\n\" + \"\\n\"+ classification_report(y_test, target_pred_xgb))"
   ]
  },
  {
   "cell_type": "code",
   "execution_count": 17,
   "metadata": {},
   "outputs": [],
   "source": [
    "orig_features_hf=['age','anaemia','creatinine_phosphokinase','diabetes','ejection_fraction','high_blood_pressure','platelets','serum_creatinine','serum_sodium','sex','smoking','time','DEATH_EVENT']\n",
    "xgb_model.get_booster().feature_names = orig_features_hf"
   ]
  },
  {
   "cell_type": "code",
   "execution_count": 18,
   "metadata": {},
   "outputs": [
    {
     "data": {
      "text/plain": [
       "<Figure size 1800x1800 with 0 Axes>"
      ]
     },
     "metadata": {},
     "output_type": "display_data"
    },
    {
     "data": {
      "image/png": "[encoded data removed]",
      "text/plain": [
       "<Figure size 432x288 with 1 Axes>"
      ]
     },
     "metadata": {},
     "output_type": "display_data"
    }
   ],
   "source": [
    "# Data exploration - most important for the model\n",
    "fig1 = plt.figure(figsize=(25,25))\n",
    "plt.style.use('seaborn-white')\n",
    "plot_importance(xgb_model, grid=True, show_values=True,height=0.8, color='teal',title = 'HeartFailure-Feature Importance')\n",
    "\n",
    "plt.savefig(\"HF_FtrImp.png\",bbox_inches='tight',format=\"png\")\n",
    "plt.show()\n",
    "plt.close()"
   ]
  },
  {
   "cell_type": "code",
   "execution_count": 20,
   "metadata": {},
   "outputs": [
    {
     "data": {
      "image/png": "[encoded data removed]",
      "text/plain": [
       "<Figure size 720x720 with 2 Axes>"
      ]
     },
     "metadata": {},
     "output_type": "display_data"
    }
   ],
   "source": [
    "fig2 = plt.figure(figsize=(10,10))\n",
    "corr = hf_df.loc[:,hf_df.dtypes == 'int64'].corr()\n",
    "#sns.heatmap(corr, xticklabels=corr.columns, yticklabels=corr.columns, square = True,cmap=sns.diverging_palette(225, 36, as_cmap=True))\n",
    "plt.title(\"HeartFailure-Feature Correlation\")\n",
    "sns.heatmap(hf_df.corr(), vmin=-1, vmax=1, annot=True, cmap='BrBG', square=True)\n",
    "plt.tick_params(axis='both', which='major', labelsize=14)\n",
    "fig2.savefig(\"HF_FtrCorr.png\",bbox_inches='tight',format='png')"
   ]
  },
  {
   "cell_type": "code",
   "execution_count": 21,
   "metadata": {},
   "outputs": [
    {
     "name": "stdout",
     "output_type": "stream",
     "text": [
      "Accuracy of the prediction using SVC:83.33333333333334\n",
      "\n",
      "\n",
      "Classification Report of SVC:\n",
      "\n",
      "              precision    recall  f1-score   support\n",
      "\n",
      "           0       0.82      0.98      0.90        65\n",
      "           1       0.92      0.44      0.59        25\n",
      "\n",
      "    accuracy                           0.83        90\n",
      "   macro avg       0.87      0.71      0.74        90\n",
      "weighted avg       0.85      0.83      0.81        90\n",
      "\n"
     ]
    }
   ],
   "source": [
    "# Build SVC model\n",
    "\n",
    "svc_model=svm.SVC(random_state=0)\n",
    "svc_model.fit(x_train, y_train) \n",
    "target_pred_svc=svc_model.predict(x_test)\n",
    "svc_score = svc_model.score(x_test, y_test)\n",
    "\n",
    "print('Accuracy of the prediction using SVC:' + str(accuracy_score(encoded_y, target_pred_svc)*100))\n",
    "print(\"\\n\")\n",
    "print('Classification Report of SVC:' + \"\\n\" + \"\\n\"+ classification_report(y_test, target_pred_svc))"
   ]
  },
  {
   "cell_type": "code",
   "execution_count": 22,
   "metadata": {},
   "outputs": [
    {
     "name": "stdout",
     "output_type": "stream",
     "text": [
      "Accuracy of the prediction using RandomForest Classifier:88.88888888888889\n",
      "\n",
      "\n",
      "Classification Report of RandomForest Classifier:\n",
      "\n",
      "              precision    recall  f1-score   support\n",
      "\n",
      "           0       0.90      0.95      0.93        65\n",
      "           1       0.86      0.72      0.78        25\n",
      "\n",
      "    accuracy                           0.89        90\n",
      "   macro avg       0.88      0.84      0.85        90\n",
      "weighted avg       0.89      0.89      0.89        90\n",
      "\n"
     ]
    }
   ],
   "source": [
    "#Training and fitting a RandomForestClassifier\n",
    "\n",
    "rfc_model = RandomForestClassifier(random_state=0)\n",
    "rfc_model.fit(x_train, y_train)\n",
    "target_pred_rfc = rfc_model.predict(x_test)\n",
    "rfc_score=rfc_model.score(x_test,y_test)\n",
    "\n",
    "print('Accuracy of the prediction using RandomForest Classifier:' + str(accuracy_score(y_test, target_pred_rfc)*100))\n",
    "print(\"\\n\")\n",
    "print('Classification Report of RandomForest Classifier:' + \"\\n\" + \"\\n\"+ classification_report(y_test, target_pred_rfc))"
   ]
  },
  {
   "cell_type": "code",
   "execution_count": 23,
   "metadata": {},
   "outputs": [
    {
     "name": "stdout",
     "output_type": "stream",
     "text": [
      "(299, 12) (299,)\n"
     ]
    }
   ],
   "source": [
    "#Training and fitting a LogisticRegression\n",
    "\n",
    "# Assign x2 (data) and y2 (target)\n",
    "x2 = hf_df.drop(\"DEATH_EVENT\", axis=1)\n",
    "y2 = hf_df[\"DEATH_EVENT\"]\n",
    "print(x2.shape, y2.shape)"
   ]
  },
  {
   "cell_type": "code",
   "execution_count": 24,
   "metadata": {},
   "outputs": [],
   "source": [
    "x2_train, x2_test, y2_train, y2_test = train_test_split(x2, y2, random_state=1)"
   ]
  },
  {
   "cell_type": "code",
   "execution_count": 25,
   "metadata": {},
   "outputs": [
    {
     "name": "stdout",
     "output_type": "stream",
     "text": [
      "Training Data Score: 0.7991071428571429\n",
      "Testing Data Score: 0.84\n"
     ]
    }
   ],
   "source": [
    "lgr_model = LogisticRegression(random_state=0)\n",
    "lgr_model.fit(x2_train,y2_train)\n",
    "#Validate the model using test data\n",
    "print(f\"Training Data Score: {lgr_model.score(x2_train, y2_train)}\")\n",
    "print(f\"Testing Data Score: {lgr_model.score(x2_test, y2_test)}\")"
   ]
  },
  {
   "cell_type": "code",
   "execution_count": 26,
   "metadata": {},
   "outputs": [
    {
     "name": "stdout",
     "output_type": "stream",
     "text": [
      "First 10 Predictions by LogisticRegression(0 = Negative, 1 = Positive):   [0 0 0 0 0 0 0 1 1 0]\n",
      "First 10 Actual labels(0 = Negative, 1 = Positive): [0, 0, 0, 0, 0, 0, 0, 1, 1, 0]\n"
     ]
    }
   ],
   "source": [
    "target_pred_lgr = lgr_model.predict(x2_test)\n",
    "#Making predictions\n",
    "print(f\"First 10 Predictions by LogisticRegression(0 = Negative, 1 = Positive):   {target_pred_lgr[:10]}\")\n",
    "print(f\"First 10 Actual labels(0 = Negative, 1 = Positive): {target_pred_lgr[:10].tolist()}\")"
   ]
  },
  {
   "cell_type": "code",
   "execution_count": 206,
   "metadata": {},
   "outputs": [
    {
     "data": {
      "text/html": [
       "<div>\n",
       "<style scoped>\n",
       "    .dataframe tbody tr th:only-of-type {\n",
       "        vertical-align: middle;\n",
       "    }\n",
       "\n",
       "    .dataframe tbody tr th {\n",
       "        vertical-align: top;\n",
       "    }\n",
       "\n",
       "    .dataframe thead th {\n",
       "        text-align: right;\n",
       "    }\n",
       "</style>\n",
       "<table border=\"1\" class=\"dataframe\">\n",
       "  <thead>\n",
       "    <tr style=\"text-align: right;\">\n",
       "      <th></th>\n",
       "      <th>Prediction using LogisticRegression</th>\n",
       "      <th>Actual</th>\n",
       "    </tr>\n",
       "  </thead>\n",
       "  <tbody>\n",
       "    <tr>\n",
       "      <th>0</th>\n",
       "      <td>0</td>\n",
       "      <td>0</td>\n",
       "    </tr>\n",
       "    <tr>\n",
       "      <th>1</th>\n",
       "      <td>0</td>\n",
       "      <td>0</td>\n",
       "    </tr>\n",
       "    <tr>\n",
       "      <th>2</th>\n",
       "      <td>0</td>\n",
       "      <td>1</td>\n",
       "    </tr>\n",
       "    <tr>\n",
       "      <th>3</th>\n",
       "      <td>0</td>\n",
       "      <td>0</td>\n",
       "    </tr>\n",
       "    <tr>\n",
       "      <th>4</th>\n",
       "      <td>0</td>\n",
       "      <td>0</td>\n",
       "    </tr>\n",
       "    <tr>\n",
       "      <th>...</th>\n",
       "      <td>...</td>\n",
       "      <td>...</td>\n",
       "    </tr>\n",
       "    <tr>\n",
       "      <th>70</th>\n",
       "      <td>0</td>\n",
       "      <td>0</td>\n",
       "    </tr>\n",
       "    <tr>\n",
       "      <th>71</th>\n",
       "      <td>0</td>\n",
       "      <td>0</td>\n",
       "    </tr>\n",
       "    <tr>\n",
       "      <th>72</th>\n",
       "      <td>1</td>\n",
       "      <td>1</td>\n",
       "    </tr>\n",
       "    <tr>\n",
       "      <th>73</th>\n",
       "      <td>0</td>\n",
       "      <td>1</td>\n",
       "    </tr>\n",
       "    <tr>\n",
       "      <th>74</th>\n",
       "      <td>0</td>\n",
       "      <td>0</td>\n",
       "    </tr>\n",
       "  </tbody>\n",
       "</table>\n",
       "<p>75 rows × 2 columns</p>\n",
       "</div>"
      ],
      "text/plain": [
       "    Prediction using LogisticRegression  Actual \n",
       "0                                     0        0\n",
       "1                                     0        0\n",
       "2                                     0        1\n",
       "3                                     0        0\n",
       "4                                     0        0\n",
       "..                                  ...      ...\n",
       "70                                    0        0\n",
       "71                                    0        0\n",
       "72                                    1        1\n",
       "73                                    0        1\n",
       "74                                    0        0\n",
       "\n",
       "[75 rows x 2 columns]"
      ]
     },
     "execution_count": 206,
     "metadata": {},
     "output_type": "execute_result"
    }
   ],
   "source": [
    "pd.DataFrame({\"Prediction using LogisticRegression\": target_pred_lgr, \"Actual \": y2_test}).reset_index(drop=True)"
   ]
  },
  {
   "cell_type": "code",
   "execution_count": 27,
   "metadata": {},
   "outputs": [
    {
     "name": "stdout",
     "output_type": "stream",
     "text": [
      "Percentage of Accuracy of the prediction using LogisticRegression Classifier:84.0\n",
      "\n",
      "\n",
      "Accuracy of prediction using logistic regression :0.84\n",
      "\n",
      "\n",
      "Classification Report of LogisticRegression Classifier:\n",
      "\n",
      "              precision    recall  f1-score   support\n",
      "\n",
      "           0       0.85      0.95      0.90        55\n",
      "           1       0.79      0.55      0.65        20\n",
      "\n",
      "    accuracy                           0.84        75\n",
      "   macro avg       0.82      0.75      0.77        75\n",
      "weighted avg       0.83      0.84      0.83        75\n",
      "\n"
     ]
    }
   ],
   "source": [
    "print('Percentage of Accuracy of the prediction using LogisticRegression Classifier:' + str(accuracy_score(y2_test, target_pred_lgr)*100))\n",
    "print(\"\\n\")\n",
    "print('Accuracy of prediction using logistic regression :{:.2f}'.format(lgr_model.score(x2_test, y2_test)))\n",
    "print(\"\\n\")\n",
    "print('Classification Report of LogisticRegression Classifier:' + \"\\n\" + \"\\n\"+ classification_report(y2_test, target_pred_lgr))"
   ]
  },
  {
   "cell_type": "code",
   "execution_count": 28,
   "metadata": {},
   "outputs": [],
   "source": [
    "# Confusion Matrix\n",
    "\n",
    "conf_mtrx_xgb = confusion_matrix(y_test, target_pred_xgb)\n",
    "conf_mtrx_rfc = confusion_matrix(y_test, target_pred_rfc)\n",
    "conf_mtrx_svc = confusion_matrix(y_test, target_pred_svc)\n",
    "#KNN used x1,y1\n",
    "conf_mtrx_lgr = confusion_matrix(y2_test, target_pred_lgr)"
   ]
  },
  {
   "cell_type": "code",
   "execution_count": 34,
   "metadata": {},
   "outputs": [
    {
     "data": {
      "image/png": "[encoded data removed]",
      "text/plain": [
       "<Figure size 432x288 with 8 Axes>"
      ]
     },
     "metadata": {},
     "output_type": "display_data"
    }
   ],
   "source": [
    "\n",
    "fig3, axs = plt.subplots(nrows=2, ncols=2, constrained_layout=False)\n",
    "fig3.WindowState = 'maximized'\n",
    "#fig3 = plt.figure(figsize=(30,8))\n",
    "axs[0,0].plot = sns.heatmap(conf_mtrx_xgb, annot=True, fmt=\".2f\", linewidths=.5, square = True, cmap = 'Greens_r', ax=axs[0,0])\n",
    "axs[0,0].set_title(f'death_event Outcomes(XGB): {xgb_score:.0%}', size=10)\n",
    "axs[0,1].plot = sns.heatmap(conf_mtrx_rfc, annot=True, fmt=\".2f\", linewidths=.5, square = True,cmap = 'Blues_r',ax=axs[0,1])\n",
    "axs[0,1].set_title(f'death_event Outcomes(RFC): {rfc_score:.0%}', size=10)\n",
    "axs[1,0].plot = sns.heatmap(conf_mtrx_svc, annot=True, fmt=\".2f\", linewidths=.5, square = True,ax=axs[1,0]);\n",
    "axs[1,0].set_title(f'death_event Outcomes(SVC): {svc_score:.0%}', size=10)\n",
    "axs[1,1].plot = sns.heatmap(conf_mtrx_lgr, annot=True, fmt=\".2f\", linewidths=.5, square = True, cmap = 'pink_r',ax=axs[1,1])\n",
    "axs[1,1].set_title(f'death_event Outcome(LGR): {lgr_model.score(x2_test, y2_test):.0%}', size=10)   \n",
    "\n",
    "for ax in axs.flat:\n",
    "    ax.set(xlabel='Actual label', ylabel='Predicted label')\n",
    "# Hide x labels and tick labels for top plots and y ticks for right plots.\n",
    "for ax in axs.flat:\n",
    "    ax.label_outer()\n",
    "plt.tight_layout()\n",
    "\n",
    "\n",
    "fig3.savefig(\"HF_cnf_mtx.png\")"
   ]
  },
  {
   "cell_type": "code",
   "execution_count": 330,
   "metadata": {},
   "outputs": [],
   "source": [
    "# DataExploration visual"
   ]
  },
  {
   "cell_type": "code",
   "execution_count": 35,
   "metadata": {},
   "outputs": [
    {
     "name": "stdout",
     "output_type": "stream",
     "text": [
      "percentage of no death event 67.89297658862876\n",
      "percentage of death event 32.10702341137124\n"
     ]
    }
   ],
   "source": [
    "count_of_nondeath = len(hf_df[hf_df['DEATH_EVENT']==0])\n",
    "count_of_death = len(hf_df[hf_df['DEATH_EVENT']==1])\n",
    "pct_of_nondeath = count_of_nondeath/(count_of_nondeath+count_of_death)\n",
    "print(\"percentage of no death event\", pct_of_nondeath*100)\n",
    "pct_of_death = count_of_death/(count_of_nondeath+count_of_death)\n",
    "print(\"percentage of death event\", pct_of_death*100)\n",
    "\n",
    "#Before balance the classes,  some more exploration."
   ]
  },
  {
   "cell_type": "code",
   "execution_count": 36,
   "metadata": {},
   "outputs": [
    {
     "data": {
      "text/html": [
       "<div>\n",
       "<style scoped>\n",
       "    .dataframe tbody tr th:only-of-type {\n",
       "        vertical-align: middle;\n",
       "    }\n",
       "\n",
       "    .dataframe tbody tr th {\n",
       "        vertical-align: top;\n",
       "    }\n",
       "\n",
       "    .dataframe thead th {\n",
       "        text-align: right;\n",
       "    }\n",
       "</style>\n",
       "<table border=\"1\" class=\"dataframe\">\n",
       "  <thead>\n",
       "    <tr style=\"text-align: right;\">\n",
       "      <th></th>\n",
       "      <th>age</th>\n",
       "      <th>anaemia</th>\n",
       "      <th>creatinine_phosphokinase</th>\n",
       "      <th>diabetes</th>\n",
       "      <th>ejection_fraction</th>\n",
       "      <th>high_blood_pressure</th>\n",
       "      <th>platelets</th>\n",
       "      <th>serum_creatinine</th>\n",
       "      <th>serum_sodium</th>\n",
       "      <th>sex</th>\n",
       "      <th>smoking</th>\n",
       "      <th>time</th>\n",
       "    </tr>\n",
       "    <tr>\n",
       "      <th>DEATH_EVENT</th>\n",
       "      <th></th>\n",
       "      <th></th>\n",
       "      <th></th>\n",
       "      <th></th>\n",
       "      <th></th>\n",
       "      <th></th>\n",
       "      <th></th>\n",
       "      <th></th>\n",
       "      <th></th>\n",
       "      <th></th>\n",
       "      <th></th>\n",
       "      <th></th>\n",
       "    </tr>\n",
       "  </thead>\n",
       "  <tbody>\n",
       "    <tr>\n",
       "      <th>0</th>\n",
       "      <td>58.758621</td>\n",
       "      <td>0.408867</td>\n",
       "      <td>540.054187</td>\n",
       "      <td>0.418719</td>\n",
       "      <td>40.26601</td>\n",
       "      <td>0.325123</td>\n",
       "      <td>266657.487685</td>\n",
       "      <td>0.763547</td>\n",
       "      <td>137.216749</td>\n",
       "      <td>0.650246</td>\n",
       "      <td>0.325123</td>\n",
       "      <td>158.339901</td>\n",
       "    </tr>\n",
       "    <tr>\n",
       "      <th>1</th>\n",
       "      <td>65.208333</td>\n",
       "      <td>0.479167</td>\n",
       "      <td>670.197917</td>\n",
       "      <td>0.416667</td>\n",
       "      <td>33.46875</td>\n",
       "      <td>0.406250</td>\n",
       "      <td>256381.041667</td>\n",
       "      <td>1.437500</td>\n",
       "      <td>135.375000</td>\n",
       "      <td>0.645833</td>\n",
       "      <td>0.312500</td>\n",
       "      <td>70.885417</td>\n",
       "    </tr>\n",
       "  </tbody>\n",
       "</table>\n",
       "</div>"
      ],
      "text/plain": [
       "                   age   anaemia  creatinine_phosphokinase  diabetes  \\\n",
       "DEATH_EVENT                                                            \n",
       "0            58.758621  0.408867                540.054187  0.418719   \n",
       "1            65.208333  0.479167                670.197917  0.416667   \n",
       "\n",
       "             ejection_fraction  high_blood_pressure      platelets  \\\n",
       "DEATH_EVENT                                                          \n",
       "0                     40.26601             0.325123  266657.487685   \n",
       "1                     33.46875             0.406250  256381.041667   \n",
       "\n",
       "             serum_creatinine  serum_sodium       sex   smoking        time  \n",
       "DEATH_EVENT                                                                  \n",
       "0                    0.763547    137.216749  0.650246  0.325123  158.339901  \n",
       "1                    1.437500    135.375000  0.645833  0.312500   70.885417  "
      ]
     },
     "execution_count": 36,
     "metadata": {},
     "output_type": "execute_result"
    }
   ],
   "source": [
    "hf_df.groupby([\"DEATH_EVENT\"]).mean()\n",
    "# Time since visit is higher in non-fatal cases while it is lower in fatal cases. creatinine_phosphokinase is higher in fatal cases than non-fatal cases."
   ]
  },
  {
   "cell_type": "code",
   "execution_count": 220,
   "metadata": {},
   "outputs": [],
   "source": [
    "#hf_df.groupby(\"creatinine_phosphokinase\").mean()"
   ]
  },
  {
   "cell_type": "code",
   "execution_count": 222,
   "metadata": {},
   "outputs": [],
   "source": [
    "#hf_df.groupby(\"time\").mean()"
   ]
  },
  {
   "cell_type": "code",
   "execution_count": 310,
   "metadata": {},
   "outputs": [],
   "source": [
    "#hf_df.groupby(\"age\").mean()"
   ]
  },
  {
   "cell_type": "code",
   "execution_count": 37,
   "metadata": {},
   "outputs": [
    {
     "data": {
      "text/html": [
       "<div>\n",
       "<style scoped>\n",
       "    .dataframe tbody tr th:only-of-type {\n",
       "        vertical-align: middle;\n",
       "    }\n",
       "\n",
       "    .dataframe tbody tr th {\n",
       "        vertical-align: top;\n",
       "    }\n",
       "\n",
       "    .dataframe thead th {\n",
       "        text-align: right;\n",
       "    }\n",
       "</style>\n",
       "<table border=\"1\" class=\"dataframe\">\n",
       "  <thead>\n",
       "    <tr style=\"text-align: right;\">\n",
       "      <th></th>\n",
       "      <th>age</th>\n",
       "      <th>creatinine_phosphokinase</th>\n",
       "      <th>diabetes</th>\n",
       "      <th>ejection_fraction</th>\n",
       "      <th>high_blood_pressure</th>\n",
       "      <th>platelets</th>\n",
       "      <th>serum_creatinine</th>\n",
       "      <th>serum_sodium</th>\n",
       "      <th>sex</th>\n",
       "      <th>smoking</th>\n",
       "      <th>time</th>\n",
       "      <th>DEATH_EVENT</th>\n",
       "    </tr>\n",
       "    <tr>\n",
       "      <th>anaemia</th>\n",
       "      <th></th>\n",
       "      <th></th>\n",
       "      <th></th>\n",
       "      <th></th>\n",
       "      <th></th>\n",
       "      <th></th>\n",
       "      <th></th>\n",
       "      <th></th>\n",
       "      <th></th>\n",
       "      <th></th>\n",
       "      <th></th>\n",
       "      <th></th>\n",
       "    </tr>\n",
       "  </thead>\n",
       "  <tbody>\n",
       "    <tr>\n",
       "      <th>0</th>\n",
       "      <td>59.923529</td>\n",
       "      <td>742.788235</td>\n",
       "      <td>0.423529</td>\n",
       "      <td>37.758824</td>\n",
       "      <td>0.335294</td>\n",
       "      <td>267082.211765</td>\n",
       "      <td>0.917647</td>\n",
       "      <td>136.464706</td>\n",
       "      <td>0.688235</td>\n",
       "      <td>0.364706</td>\n",
       "      <td>139.805882</td>\n",
       "      <td>0.294118</td>\n",
       "    </tr>\n",
       "    <tr>\n",
       "      <th>1</th>\n",
       "      <td>62.023256</td>\n",
       "      <td>369.736434</td>\n",
       "      <td>0.410853</td>\n",
       "      <td>38.511628</td>\n",
       "      <td>0.372093</td>\n",
       "      <td>258450.186047</td>\n",
       "      <td>1.062016</td>\n",
       "      <td>136.837209</td>\n",
       "      <td>0.596899</td>\n",
       "      <td>0.263566</td>\n",
       "      <td>117.682171</td>\n",
       "      <td>0.356589</td>\n",
       "    </tr>\n",
       "  </tbody>\n",
       "</table>\n",
       "</div>"
      ],
      "text/plain": [
       "               age  creatinine_phosphokinase  diabetes  ejection_fraction  \\\n",
       "anaemia                                                                     \n",
       "0        59.923529                742.788235  0.423529          37.758824   \n",
       "1        62.023256                369.736434  0.410853          38.511628   \n",
       "\n",
       "         high_blood_pressure      platelets  serum_creatinine  serum_sodium  \\\n",
       "anaemia                                                                       \n",
       "0                   0.335294  267082.211765          0.917647    136.464706   \n",
       "1                   0.372093  258450.186047          1.062016    136.837209   \n",
       "\n",
       "              sex   smoking        time  DEATH_EVENT  \n",
       "anaemia                                               \n",
       "0        0.688235  0.364706  139.805882     0.294118  \n",
       "1        0.596899  0.263566  117.682171     0.356589  "
      ]
     },
     "execution_count": 37,
     "metadata": {},
     "output_type": "execute_result"
    }
   ],
   "source": [
    "hf_df.groupby(\"anaemia\").mean()"
   ]
  },
  {
   "cell_type": "code",
   "execution_count": 38,
   "metadata": {},
   "outputs": [
    {
     "data": {
      "text/html": [
       "<div>\n",
       "<style scoped>\n",
       "    .dataframe tbody tr th:only-of-type {\n",
       "        vertical-align: middle;\n",
       "    }\n",
       "\n",
       "    .dataframe tbody tr th {\n",
       "        vertical-align: top;\n",
       "    }\n",
       "\n",
       "    .dataframe thead th {\n",
       "        text-align: right;\n",
       "    }\n",
       "</style>\n",
       "<table border=\"1\" class=\"dataframe\">\n",
       "  <thead>\n",
       "    <tr style=\"text-align: right;\">\n",
       "      <th></th>\n",
       "      <th></th>\n",
       "      <th></th>\n",
       "      <th>age</th>\n",
       "      <th>anaemia</th>\n",
       "      <th>creatinine_phosphokinase</th>\n",
       "      <th>ejection_fraction</th>\n",
       "      <th>platelets</th>\n",
       "      <th>serum_creatinine</th>\n",
       "      <th>serum_sodium</th>\n",
       "      <th>sex</th>\n",
       "      <th>time</th>\n",
       "      <th>DEATH_EVENT</th>\n",
       "    </tr>\n",
       "    <tr>\n",
       "      <th>high_blood_pressure</th>\n",
       "      <th>diabetes</th>\n",
       "      <th>smoking</th>\n",
       "      <th></th>\n",
       "      <th></th>\n",
       "      <th></th>\n",
       "      <th></th>\n",
       "      <th></th>\n",
       "      <th></th>\n",
       "      <th></th>\n",
       "      <th></th>\n",
       "      <th></th>\n",
       "      <th></th>\n",
       "    </tr>\n",
       "  </thead>\n",
       "  <tbody>\n",
       "    <tr>\n",
       "      <th rowspan=\"4\" valign=\"top\">0</th>\n",
       "      <th rowspan=\"2\" valign=\"top\">0</th>\n",
       "      <th>0</th>\n",
       "      <td>62.830769</td>\n",
       "      <td>0.461538</td>\n",
       "      <td>528.569231</td>\n",
       "      <td>38.369231</td>\n",
       "      <td>249059.446154</td>\n",
       "      <td>1.015385</td>\n",
       "      <td>136.692308</td>\n",
       "      <td>0.569231</td>\n",
       "      <td>132.307692</td>\n",
       "      <td>0.384615</td>\n",
       "    </tr>\n",
       "    <tr>\n",
       "      <th>1</th>\n",
       "      <td>59.127660</td>\n",
       "      <td>0.319149</td>\n",
       "      <td>795.404255</td>\n",
       "      <td>36.531915</td>\n",
       "      <td>256136.851064</td>\n",
       "      <td>0.829787</td>\n",
       "      <td>136.744681</td>\n",
       "      <td>1.000000</td>\n",
       "      <td>148.255319</td>\n",
       "      <td>0.191489</td>\n",
       "    </tr>\n",
       "    <tr>\n",
       "      <th rowspan=\"2\" valign=\"top\">1</th>\n",
       "      <th>0</th>\n",
       "      <td>57.333333</td>\n",
       "      <td>0.460317</td>\n",
       "      <td>679.095238</td>\n",
       "      <td>38.873016</td>\n",
       "      <td>270378.031746</td>\n",
       "      <td>1.095238</td>\n",
       "      <td>136.396825</td>\n",
       "      <td>0.492063</td>\n",
       "      <td>150.888889</td>\n",
       "      <td>0.253968</td>\n",
       "    </tr>\n",
       "    <tr>\n",
       "      <th>1</th>\n",
       "      <td>61.473684</td>\n",
       "      <td>0.368421</td>\n",
       "      <td>426.947368</td>\n",
       "      <td>36.157895</td>\n",
       "      <td>270214.421053</td>\n",
       "      <td>0.894737</td>\n",
       "      <td>135.631579</td>\n",
       "      <td>0.947368</td>\n",
       "      <td>124.684211</td>\n",
       "      <td>0.368421</td>\n",
       "    </tr>\n",
       "    <tr>\n",
       "      <th rowspan=\"4\" valign=\"top\">1</th>\n",
       "      <th rowspan=\"2\" valign=\"top\">0</th>\n",
       "      <th>0</th>\n",
       "      <td>61.976744</td>\n",
       "      <td>0.488372</td>\n",
       "      <td>544.139535</td>\n",
       "      <td>38.348837</td>\n",
       "      <td>251327.302326</td>\n",
       "      <td>1.000000</td>\n",
       "      <td>137.395349</td>\n",
       "      <td>0.534884</td>\n",
       "      <td>119.046512</td>\n",
       "      <td>0.302326</td>\n",
       "    </tr>\n",
       "    <tr>\n",
       "      <th>1</th>\n",
       "      <td>64.947368</td>\n",
       "      <td>0.526316</td>\n",
       "      <td>393.578947</td>\n",
       "      <td>40.789474</td>\n",
       "      <td>287492.526316</td>\n",
       "      <td>1.368421</td>\n",
       "      <td>137.421053</td>\n",
       "      <td>0.894737</td>\n",
       "      <td>83.842105</td>\n",
       "      <td>0.473684</td>\n",
       "    </tr>\n",
       "    <tr>\n",
       "      <th rowspan=\"2\" valign=\"top\">1</th>\n",
       "      <th>0</th>\n",
       "      <td>61.125000</td>\n",
       "      <td>0.468750</td>\n",
       "      <td>539.000000</td>\n",
       "      <td>39.062500</td>\n",
       "      <td>282721.062500</td>\n",
       "      <td>0.781250</td>\n",
       "      <td>135.812500</td>\n",
       "      <td>0.343750</td>\n",
       "      <td>108.281250</td>\n",
       "      <td>0.375000</td>\n",
       "    </tr>\n",
       "    <tr>\n",
       "      <th>1</th>\n",
       "      <td>62.727273</td>\n",
       "      <td>0.181818</td>\n",
       "      <td>291.818182</td>\n",
       "      <td>33.272727</td>\n",
       "      <td>275668.909091</td>\n",
       "      <td>0.727273</td>\n",
       "      <td>136.727273</td>\n",
       "      <td>0.909091</td>\n",
       "      <td>120.727273</td>\n",
       "      <td>0.454545</td>\n",
       "    </tr>\n",
       "  </tbody>\n",
       "</table>\n",
       "</div>"
      ],
      "text/plain": [
       "                                            age   anaemia  \\\n",
       "high_blood_pressure diabetes smoking                        \n",
       "0                   0        0        62.830769  0.461538   \n",
       "                             1        59.127660  0.319149   \n",
       "                    1        0        57.333333  0.460317   \n",
       "                             1        61.473684  0.368421   \n",
       "1                   0        0        61.976744  0.488372   \n",
       "                             1        64.947368  0.526316   \n",
       "                    1        0        61.125000  0.468750   \n",
       "                             1        62.727273  0.181818   \n",
       "\n",
       "                                      creatinine_phosphokinase  \\\n",
       "high_blood_pressure diabetes smoking                             \n",
       "0                   0        0                      528.569231   \n",
       "                             1                      795.404255   \n",
       "                    1        0                      679.095238   \n",
       "                             1                      426.947368   \n",
       "1                   0        0                      544.139535   \n",
       "                             1                      393.578947   \n",
       "                    1        0                      539.000000   \n",
       "                             1                      291.818182   \n",
       "\n",
       "                                      ejection_fraction      platelets  \\\n",
       "high_blood_pressure diabetes smoking                                     \n",
       "0                   0        0                38.369231  249059.446154   \n",
       "                             1                36.531915  256136.851064   \n",
       "                    1        0                38.873016  270378.031746   \n",
       "                             1                36.157895  270214.421053   \n",
       "1                   0        0                38.348837  251327.302326   \n",
       "                             1                40.789474  287492.526316   \n",
       "                    1        0                39.062500  282721.062500   \n",
       "                             1                33.272727  275668.909091   \n",
       "\n",
       "                                      serum_creatinine  serum_sodium  \\\n",
       "high_blood_pressure diabetes smoking                                   \n",
       "0                   0        0                1.015385    136.692308   \n",
       "                             1                0.829787    136.744681   \n",
       "                    1        0                1.095238    136.396825   \n",
       "                             1                0.894737    135.631579   \n",
       "1                   0        0                1.000000    137.395349   \n",
       "                             1                1.368421    137.421053   \n",
       "                    1        0                0.781250    135.812500   \n",
       "                             1                0.727273    136.727273   \n",
       "\n",
       "                                           sex        time  DEATH_EVENT  \n",
       "high_blood_pressure diabetes smoking                                     \n",
       "0                   0        0        0.569231  132.307692     0.384615  \n",
       "                             1        1.000000  148.255319     0.191489  \n",
       "                    1        0        0.492063  150.888889     0.253968  \n",
       "                             1        0.947368  124.684211     0.368421  \n",
       "1                   0        0        0.534884  119.046512     0.302326  \n",
       "                             1        0.894737   83.842105     0.473684  \n",
       "                    1        0        0.343750  108.281250     0.375000  \n",
       "                             1        0.909091  120.727273     0.454545  "
      ]
     },
     "execution_count": 38,
     "metadata": {},
     "output_type": "execute_result"
    }
   ],
   "source": [
    "hf_df.groupby([\"high_blood_pressure\",\"diabetes\",\"smoking\"]).mean()"
   ]
  },
  {
   "cell_type": "code",
   "execution_count": 39,
   "metadata": {},
   "outputs": [
    {
     "data": {
      "text/html": [
       "<div>\n",
       "<style scoped>\n",
       "    .dataframe tbody tr th:only-of-type {\n",
       "        vertical-align: middle;\n",
       "    }\n",
       "\n",
       "    .dataframe tbody tr th {\n",
       "        vertical-align: top;\n",
       "    }\n",
       "\n",
       "    .dataframe thead th {\n",
       "        text-align: right;\n",
       "    }\n",
       "</style>\n",
       "<table border=\"1\" class=\"dataframe\">\n",
       "  <thead>\n",
       "    <tr style=\"text-align: right;\">\n",
       "      <th></th>\n",
       "      <th>age</th>\n",
       "      <th>anaemia</th>\n",
       "      <th>creatinine_phosphokinase</th>\n",
       "      <th>ejection_fraction</th>\n",
       "      <th>high_blood_pressure</th>\n",
       "      <th>platelets</th>\n",
       "      <th>serum_creatinine</th>\n",
       "      <th>serum_sodium</th>\n",
       "      <th>sex</th>\n",
       "      <th>smoking</th>\n",
       "      <th>time</th>\n",
       "      <th>DEATH_EVENT</th>\n",
       "    </tr>\n",
       "    <tr>\n",
       "      <th>diabetes</th>\n",
       "      <th></th>\n",
       "      <th></th>\n",
       "      <th></th>\n",
       "      <th></th>\n",
       "      <th></th>\n",
       "      <th></th>\n",
       "      <th></th>\n",
       "      <th></th>\n",
       "      <th></th>\n",
       "      <th></th>\n",
       "      <th></th>\n",
       "      <th></th>\n",
       "    </tr>\n",
       "  </thead>\n",
       "  <tbody>\n",
       "    <tr>\n",
       "      <th>0</th>\n",
       "      <td>61.850575</td>\n",
       "      <td>0.436782</td>\n",
       "      <td>589.752874</td>\n",
       "      <td>38.132184</td>\n",
       "      <td>0.356322</td>\n",
       "      <td>255728.321839</td>\n",
       "      <td>1.000</td>\n",
       "      <td>136.95977</td>\n",
       "      <td>0.712644</td>\n",
       "      <td>0.37931</td>\n",
       "      <td>128.045977</td>\n",
       "      <td>0.321839</td>\n",
       "    </tr>\n",
       "    <tr>\n",
       "      <th>1</th>\n",
       "      <td>59.408000</td>\n",
       "      <td>0.424000</td>\n",
       "      <td>570.824000</td>\n",
       "      <td>38.016000</td>\n",
       "      <td>0.344000</td>\n",
       "      <td>273978.576000</td>\n",
       "      <td>0.952</td>\n",
       "      <td>136.16000</td>\n",
       "      <td>0.560000</td>\n",
       "      <td>0.24000</td>\n",
       "      <td>133.344000</td>\n",
       "      <td>0.320000</td>\n",
       "    </tr>\n",
       "  </tbody>\n",
       "</table>\n",
       "</div>"
      ],
      "text/plain": [
       "                age   anaemia  creatinine_phosphokinase  ejection_fraction  \\\n",
       "diabetes                                                                     \n",
       "0         61.850575  0.436782                589.752874          38.132184   \n",
       "1         59.408000  0.424000                570.824000          38.016000   \n",
       "\n",
       "          high_blood_pressure      platelets  serum_creatinine  serum_sodium  \\\n",
       "diabetes                                                                       \n",
       "0                    0.356322  255728.321839             1.000     136.95977   \n",
       "1                    0.344000  273978.576000             0.952     136.16000   \n",
       "\n",
       "               sex  smoking        time  DEATH_EVENT  \n",
       "diabetes                                              \n",
       "0         0.712644  0.37931  128.045977     0.321839  \n",
       "1         0.560000  0.24000  133.344000     0.320000  "
      ]
     },
     "execution_count": 39,
     "metadata": {},
     "output_type": "execute_result"
    }
   ],
   "source": [
    "hf_df.groupby(\"diabetes\").mean()"
   ]
  },
  {
   "cell_type": "code",
   "execution_count": 40,
   "metadata": {},
   "outputs": [
    {
     "data": {
      "text/html": [
       "<div>\n",
       "<style scoped>\n",
       "    .dataframe tbody tr th:only-of-type {\n",
       "        vertical-align: middle;\n",
       "    }\n",
       "\n",
       "    .dataframe tbody tr th {\n",
       "        vertical-align: top;\n",
       "    }\n",
       "\n",
       "    .dataframe thead th {\n",
       "        text-align: right;\n",
       "    }\n",
       "</style>\n",
       "<table border=\"1\" class=\"dataframe\">\n",
       "  <thead>\n",
       "    <tr style=\"text-align: right;\">\n",
       "      <th></th>\n",
       "      <th>age</th>\n",
       "      <th>anaemia</th>\n",
       "      <th>creatinine_phosphokinase</th>\n",
       "      <th>diabetes</th>\n",
       "      <th>ejection_fraction</th>\n",
       "      <th>high_blood_pressure</th>\n",
       "      <th>platelets</th>\n",
       "      <th>serum_creatinine</th>\n",
       "      <th>serum_sodium</th>\n",
       "      <th>sex</th>\n",
       "      <th>time</th>\n",
       "      <th>DEATH_EVENT</th>\n",
       "    </tr>\n",
       "    <tr>\n",
       "      <th>smoking</th>\n",
       "      <th></th>\n",
       "      <th></th>\n",
       "      <th></th>\n",
       "      <th></th>\n",
       "      <th></th>\n",
       "      <th></th>\n",
       "      <th></th>\n",
       "      <th></th>\n",
       "      <th></th>\n",
       "      <th></th>\n",
       "      <th></th>\n",
       "      <th></th>\n",
       "    </tr>\n",
       "  </thead>\n",
       "  <tbody>\n",
       "    <tr>\n",
       "      <th>0</th>\n",
       "      <td>60.674877</td>\n",
       "      <td>0.467980</td>\n",
       "      <td>580.226601</td>\n",
       "      <td>0.46798</td>\n",
       "      <td>38.630542</td>\n",
       "      <td>0.369458</td>\n",
       "      <td>261462.206897</td>\n",
       "      <td>1.0000</td>\n",
       "      <td>136.610837</td>\n",
       "      <td>0.502463</td>\n",
       "      <td>131.477833</td>\n",
       "      <td>0.325123</td>\n",
       "    </tr>\n",
       "    <tr>\n",
       "      <th>1</th>\n",
       "      <td>61.156250</td>\n",
       "      <td>0.354167</td>\n",
       "      <td>585.250000</td>\n",
       "      <td>0.31250</td>\n",
       "      <td>36.927083</td>\n",
       "      <td>0.312500</td>\n",
       "      <td>267366.895833</td>\n",
       "      <td>0.9375</td>\n",
       "      <td>136.656250</td>\n",
       "      <td>0.958333</td>\n",
       "      <td>127.687500</td>\n",
       "      <td>0.312500</td>\n",
       "    </tr>\n",
       "  </tbody>\n",
       "</table>\n",
       "</div>"
      ],
      "text/plain": [
       "               age   anaemia  creatinine_phosphokinase  diabetes  \\\n",
       "smoking                                                            \n",
       "0        60.674877  0.467980                580.226601   0.46798   \n",
       "1        61.156250  0.354167                585.250000   0.31250   \n",
       "\n",
       "         ejection_fraction  high_blood_pressure      platelets  \\\n",
       "smoking                                                          \n",
       "0                38.630542             0.369458  261462.206897   \n",
       "1                36.927083             0.312500  267366.895833   \n",
       "\n",
       "         serum_creatinine  serum_sodium       sex        time  DEATH_EVENT  \n",
       "smoking                                                                     \n",
       "0                  1.0000    136.610837  0.502463  131.477833     0.325123  \n",
       "1                  0.9375    136.656250  0.958333  127.687500     0.312500  "
      ]
     },
     "execution_count": 40,
     "metadata": {},
     "output_type": "execute_result"
    }
   ],
   "source": [
    "hf_df.groupby(\"smoking\").mean()"
   ]
  },
  {
   "cell_type": "code",
   "execution_count": 41,
   "metadata": {},
   "outputs": [
    {
     "data": {
      "image/png": "[encoded data removed]",
      "text/plain": [
       "<Figure size 720x576 with 1 Axes>"
      ]
     },
     "metadata": {},
     "output_type": "display_data"
    }
   ],
   "source": [
    "fig, ax = plt.subplots(figsize=(10, 8))\n",
    "my_colors = list(islice(cycle(['g', 'y', 'g']), None, len(hf_df)))\n",
    "plt.title('Death by heartfailure Vs. Age',fontsize=20)\n",
    "plt.xlabel('Age',fontsize=15)\n",
    "plt.ylabel('Fatality',fontsize=15)\n",
    "plt.tick_params(axis='both', which='major', labelsize=12)\n",
    "pd.crosstab(hf_df.age,hf_df.DEATH_EVENT).plot(kind='bar',width=2.5,ax=ax,color=my_colors)\n",
    "\n",
    "plt.savefig('HF_Ftl_age.png')"
   ]
  },
  {
   "cell_type": "code",
   "execution_count": 42,
   "metadata": {},
   "outputs": [],
   "source": [
    "#Training K_Nearest_Neighbors model\n",
    "\n",
    "y1 = hf_df[\"DEATH_EVENT\"]\n",
    "target_names = [\"negative\", \"positive\"]"
   ]
  },
  {
   "cell_type": "code",
   "execution_count": 43,
   "metadata": {},
   "outputs": [],
   "source": [
    "x1 = hf_df.drop(\"DEATH_EVENT\", axis=1)\n",
    "x1_train, x1_test, y1_train, y1_test = train_test_split(x1, y1, random_state=42)\n",
    "#x1.head()"
   ]
  },
  {
   "cell_type": "code",
   "execution_count": 45,
   "metadata": {},
   "outputs": [
    {
     "name": "stdout",
     "output_type": "stream",
     "text": [
      "k: 1, Train/Test Score: 1.00/0.63\n",
      "k: 3, Train/Test Score: 0.86/0.71\n",
      "k: 5, Train/Test Score: 0.82/0.69\n",
      "k: 7, Train/Test Score: 0.82/0.67\n",
      "k: 9, Train/Test Score: 0.77/0.68\n",
      "k: 11, Train/Test Score: 0.76/0.67\n",
      "k: 13, Train/Test Score: 0.77/0.67\n"
     ]
    },
    {
     "data": {
      "image/png": "[encoded data removed]",
      "text/plain": [
       "<Figure size 432x288 with 1 Axes>"
      ]
     },
     "metadata": {},
     "output_type": "display_data"
    }
   ],
   "source": [
    "# Create a StandardScater model and fit it to the training data\n",
    "x1_scaler = StandardScaler().fit(x1_train)\n",
    "# Transform the training and testing data using the x_scaler and y_scaler models\n",
    "\n",
    "x1_train_scaled = x1_scaler.transform(x1_train)\n",
    "x1_test_scaled = x1_scaler.transform(x1_test)\n",
    "# Loop through different k values to see which has the highest accuracy; Note: We only use odd numbers because we don't want any ties\n",
    "knn_train_scores = []\n",
    "knn_test_scores = []\n",
    "for k in range(1, 15, 2):\n",
    "    knn_model = KNeighborsClassifier(n_neighbors=k)\n",
    "    knn_model.fit(x1_train_scaled, y1_train)\n",
    "    knn_train_score = knn_model.score(x1_train_scaled, y1_train)\n",
    "    knn_test_score = knn_model.score(x1_test_scaled, y1_test)\n",
    "    knn_train_scores.append(knn_train_score)\n",
    "    knn_test_scores.append(knn_test_score)\n",
    "    print(f\"k: {k}, Train/Test Score: {knn_train_score:.2f}/{knn_test_score:.2f}\")\n",
    "    \n",
    "    \n",
    "plt.plot(range(1, 15, 2), knn_train_scores, marker='o')\n",
    "plt.plot(range(1, 15, 2), knn_test_scores, marker=\"x\")\n",
    "plt.xlabel(\"k neighbors\")\n",
    "plt.ylabel(\"Testing accuracy Score\")\n",
    "\n",
    "plt.savefig('hf_knn-acc.png',bbox_inches='tight',format='png')\n",
    "plt.show()\n",
    "plt.show()"
   ]
  },
  {
   "cell_type": "code",
   "execution_count": 186,
   "metadata": {},
   "outputs": [
    {
     "name": "stdout",
     "output_type": "stream",
     "text": [
      "\n",
      "\n",
      "\n",
      "k=11 Accuracy of the KNN prediction: 0.667\n"
     ]
    }
   ],
   "source": [
    "# Note that k: 11 seems to be the best choice for this dataset\n",
    "knn_mdl = KNeighborsClassifier(n_neighbors=11)\n",
    "knn_mdl.fit(x1_train_scaled, y1_train)\n",
    "print(\"\\n\")\n",
    "print(\"\\n\" + 'k=11 Accuracy of the KNN prediction: %.3f' % knn_mdl.score(x1_test_scaled, y1_test))"
   ]
  },
  {
   "cell_type": "code",
   "execution_count": null,
   "metadata": {},
   "outputs": [],
   "source": []
  }
 ],
 "metadata": {
  "kernelspec": {
   "display_name": "Python 3",
   "language": "python",
   "name": "python3"
  },
  "language_info": {
   "codemirror_mode": {
    "name": "ipython",
    "version": 3
   },
   "file_extension": ".py",
   "mimetype": "text/x-python",
   "name": "python",
   "nbconvert_exporter": "python",
   "pygments_lexer": "ipython3",
   "version": "3.8.3"
  }
 },
 "nbformat": 4,
 "nbformat_minor": 4
}
