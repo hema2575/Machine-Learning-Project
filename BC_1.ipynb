{
 "cells": [
  {
   "cell_type": "code",
   "execution_count": 65,
   "metadata": {},
   "outputs": [],
   "source": [
    "# Original data: breast-cancer-wisconsin\n",
    "\n",
    "import numpy as np\n",
    "import pandas as pd\n",
    "import os, sys\n",
    "import seaborn as sns\n",
    "\n",
    "import matplotlib.pyplot as plt\n",
    "from sklearn.metrics import roc_auc_score\n",
    "from sklearn.metrics import roc_curve\n",
    "from sklearn.metrics import accuracy_score\n",
    "from sklearn.metrics import classification_report\n",
    "\n",
    "from sklearn import datasets, metrics, model_selection, svm\n",
    "\n",
    "from sklearn.preprocessing import MinMaxScaler\n",
    "from sklearn.preprocessing import StandardScaler\n",
    "\n",
    "from sklearn.model_selection import train_test_split\n",
    "from sklearn.model_selection import StratifiedKFold\n",
    "from sklearn.linear_model import LogisticRegression\n",
    "from sklearn.linear_model import LinearRegression\n",
    "from sklearn.ensemble import RandomForestClassifier\n",
    "\n",
    "from xgboost import XGBClassifier\n",
    "\n",
    "from sklearn.model_selection import StratifiedKFold\n"
   ]
  },
  {
   "cell_type": "code",
   "execution_count": 67,
   "metadata": {},
   "outputs": [],
   "source": [
    "df1=pd.read_csv(r'C:\\Users\\muthukumar\\Desktop\\005_SaveNWBCSHere\\03_Activities&HW\\Project_3\\BC_Data\\BC_1.csv')\n",
    "#df1.head()"
   ]
  },
  {
   "cell_type": "code",
   "execution_count": 3,
   "metadata": {},
   "outputs": [],
   "source": [
    "#df2=pd.read_csv(r'C:\\Users\\muthukumar\\Desktop\\005_SaveNWBCSHere\\03_Activities&HW\\Project_3\\BC_Data\\BC_diagnostic_data.csv')\n",
    "#df2.head()"
   ]
  },
  {
   "cell_type": "code",
   "execution_count": 4,
   "metadata": {},
   "outputs": [],
   "source": [
    "#df3= pd.read_csv(r'C:\\Users\\muthukumar\\Desktop\\005_SaveNWBCSHere\\03_Activities&HW\\Project_3\\BC_Data\\BC_diagnostic_data_2.csv')\n",
    "#df3.head()"
   ]
  },
  {
   "cell_type": "code",
   "execution_count": 68,
   "metadata": {},
   "outputs": [],
   "source": [
    "df1 = df1.dropna()\n",
    "df1 = df1.apply(pd.to_numeric)\n",
    "#df1.head(30)"
   ]
  },
  {
   "cell_type": "code",
   "execution_count": 6,
   "metadata": {},
   "outputs": [],
   "source": [
    "#df1.info()"
   ]
  },
  {
   "cell_type": "markdown",
   "metadata": {},
   "source": [
    "# Training the XGBClassifier()"
   ]
  },
  {
   "cell_type": "code",
   "execution_count": 69,
   "metadata": {},
   "outputs": [],
   "source": [
    "features=df1.loc[:,df1.columns!='Status'].values[:,1:]\n",
    "labels=df1.loc[:,'Status'].values"
   ]
  },
  {
   "cell_type": "code",
   "execution_count": 70,
   "metadata": {},
   "outputs": [
    {
     "data": {
      "text/plain": [
       "683"
      ]
     },
     "execution_count": 70,
     "metadata": {},
     "output_type": "execute_result"
    }
   ],
   "source": [
    "scaler=MinMaxScaler((-1,1))\n",
    "x=scaler.fit_transform(features)\n",
    "y=labels\n",
    "len(y)"
   ]
  },
  {
   "cell_type": "code",
   "execution_count": 71,
   "metadata": {},
   "outputs": [],
   "source": [
    "x_train,x_test,y_train,y_test=train_test_split(x, y, test_size=0.2, random_state=7)"
   ]
  },
  {
   "cell_type": "code",
   "execution_count": 72,
   "metadata": {},
   "outputs": [
    {
     "name": "stdout",
     "output_type": "stream",
     "text": [
      "[13:15:51] WARNING: C:/Users/Administrator/workspace/xgboost-win64_release_1.3.0/src/learner.cc:1061: Starting in XGBoost 1.3.0, the default evaluation metric used with the objective 'binary:logistic' was changed from 'error' to 'logloss'. Explicitly set eval_metric if you'd like to restore the old behavior.\n"
     ]
    },
    {
     "name": "stderr",
     "output_type": "stream",
     "text": [
      "C:\\Users\\muthukumar\\anaconda3\\lib\\site-packages\\xgboost\\sklearn.py:888: UserWarning: The use of label encoder in XGBClassifier is deprecated and will be removed in a future release. To remove this warning, do the following: 1) Pass option use_label_encoder=False when constructing XGBClassifier object; and 2) Encode your labels (y) as integers starting with 0, i.e. 0, 1, 2, ..., [num_class - 1].\n",
      "  warnings.warn(label_encoder_deprecation_msg, UserWarning)\n"
     ]
    },
    {
     "data": {
      "text/plain": [
       "XGBClassifier(base_score=0.5, booster='gbtree', colsample_bylevel=1,\n",
       "              colsample_bynode=1, colsample_bytree=1, gamma=0, gpu_id=-1,\n",
       "              importance_type='gain', interaction_constraints='',\n",
       "              learning_rate=0.300000012, max_delta_step=0, max_depth=6,\n",
       "              min_child_weight=1, missing=nan, monotone_constraints='()',\n",
       "              n_estimators=100, n_jobs=4, num_parallel_tree=1, random_state=0,\n",
       "              reg_alpha=0, reg_lambda=1, scale_pos_weight=1, subsample=1,\n",
       "              tree_method='exact', validate_parameters=1, verbosity=None)"
      ]
     },
     "execution_count": 72,
     "metadata": {},
     "output_type": "execute_result"
    }
   ],
   "source": [
    "model1=XGBClassifier()\n",
    "model1.fit(x_train,y_train)"
   ]
  },
  {
   "cell_type": "code",
   "execution_count": 73,
   "metadata": {},
   "outputs": [
    {
     "name": "stdout",
     "output_type": "stream",
     "text": [
      "Accuracy of cancer prediction using XGBClassifier:97.8102189781022\n"
     ]
    }
   ],
   "source": [
    "y_pred=model1.predict(x_test)\n",
    "print('Accuracy of cancer prediction using XGBClassifier:' + str(accuracy_score(y_test, y_pred)*100))"
   ]
  },
  {
   "cell_type": "code",
   "execution_count": 91,
   "metadata": {},
   "outputs": [],
   "source": [
    "cm_xgb = metrics.confusion_matrix(y_test, y_pred)\n",
    "xgb_scr = model1.score(x_test, y_test)"
   ]
  },
  {
   "cell_type": "code",
   "execution_count": 12,
   "metadata": {},
   "outputs": [],
   "source": [
    "#module of XGBoost is plot_importance which provides e f-score of each feature,showing that feature’s importance to the model."
   ]
  },
  {
   "cell_type": "code",
   "execution_count": 74,
   "metadata": {},
   "outputs": [
    {
     "data": {
      "image/png": "[encoded data removed]",
      "text/plain": [
       "<Figure size 432x288 with 1 Axes>"
      ]
     },
     "metadata": {
      "needs_background": "light"
     },
     "output_type": "display_data"
    }
   ],
   "source": [
    "from xgboost import plot_importance\n",
    "import matplotlib.pyplot as plt\n",
    "#model1.get_booster().feature_names = orig_feature_names\n",
    "#orig_feature_names=['Sample code number','Clump Thickness','Uniformity of Cell Size','Uniformity of Cell Shape','Marginal Adhesion','Single Epithelial Cell Size','Bare Nuclei','Bland Chromatin','Normal Nucleoli','Mitoses','Status']\n",
    "#plot_importance(model1, grid=True, show_values=True,height=0.6, color='plum')\n",
    "plot_importance(model1,grid=True, title = 'BreastCancer - FeatureImportance',show_values=True,height=0.6, color='plum').set_yticklabels(['Sample code number','Clump Thickness','Uniformity of Cell Size','Uniformity of Cell Shape','Marginal Adhesion','Single Epithelial Cell Size','Bare Nuclei','Bland Chromatin','Normal Nucleoli','Mitoses','Status'])\n",
    "#pyplot.show()\n",
    "plt.savefig(\"bc_ftrimp.png\",bbox_inches='tight')"
   ]
  },
  {
   "cell_type": "markdown",
   "metadata": {},
   "source": [
    "# Training the Linear regression model"
   ]
  },
  {
   "cell_type": "code",
   "execution_count": 75,
   "metadata": {},
   "outputs": [],
   "source": [
    "# Scale or Normalize your data. Use StandardScaler if you don't know anything about your data. (07-Ins_Data_Preprocessing)\n",
    "scaler1 = StandardScaler()\n",
    "#X = df1[[\"Clump Thickness\", \"Bare Nuclei\", \"Normal Nucleoli\"]]\n",
    "X = df1[[\"Clump Thickness\"]]\n",
    "#X = df1.loc[:,df1.columns!='Status']\n",
    "y1 = df1[\"Status\"].values.reshape(-1, 1)\n",
    "#print(X.shape, y1.shape)"
   ]
  },
  {
   "cell_type": "code",
   "execution_count": 76,
   "metadata": {},
   "outputs": [],
   "source": [
    "from sklearn.model_selection import train_test_split\n",
    "X_train, X_test, y1_train, y1_test = train_test_split(X, y1, random_state=42)\n",
    "#print(X_test)"
   ]
  },
  {
   "cell_type": "code",
   "execution_count": 77,
   "metadata": {},
   "outputs": [],
   "source": [
    "X_scaler = scaler1.fit(X_train)\n",
    "y_scaler = scaler1.fit(y1_train)\n",
    "\n",
    "X_train_scaled = X_scaler.transform(X_train)\n",
    "X_test_scaled = X_scaler.transform(X_test)\n",
    "y_train_scaled = y_scaler.transform(y1_train)\n",
    "y_test_scaled = y_scaler.transform(y1_test)"
   ]
  },
  {
   "cell_type": "code",
   "execution_count": 78,
   "metadata": {},
   "outputs": [
    {
     "data": {
      "text/plain": [
       "LinearRegression()"
      ]
     },
     "execution_count": 78,
     "metadata": {},
     "output_type": "execute_result"
    }
   ],
   "source": [
    "# fit the linear regression model\n",
    "#If you are performing regression for a continuous outcome (i.e.linear regression) then you may use metrics such as:MSE, Fsquare \n",
    "#Rsquare value is a very popular metric used for evaluating the accuracy of a linear regression model.#R2 Score is the default scoring for many of the Sklearn models\n",
    "#A \"good\" MSE score will be close to zero while a \"good\" R2 Score will be close to 1.\n",
    "\n",
    "model2 = LinearRegression()\n",
    "model2.fit(X_train_scaled, y_train_scaled)"
   ]
  },
  {
   "cell_type": "code",
   "execution_count": 79,
   "metadata": {},
   "outputs": [],
   "source": [
    "predictions_lnr = model2.predict(X_test_scaled)"
   ]
  },
  {
   "cell_type": "code",
   "execution_count": 80,
   "metadata": {},
   "outputs": [
    {
     "name": "stdout",
     "output_type": "stream",
     "text": [
      "MSE from Linear Regression: 8.045723251972486, R2 from Linear Regression: -4.275391888987753\n"
     ]
    }
   ],
   "source": [
    "from sklearn.metrics import mean_squared_error\n",
    "MSE = mean_squared_error(y1_test, predictions_lnr)\n",
    "r2 = model2.score(X_test, y1_test)\n",
    "print(f\"MSE from Linear Regression: {MSE}, R2 from Linear Regression: {r2}\")"
   ]
  },
  {
   "cell_type": "code",
   "execution_count": 20,
   "metadata": {},
   "outputs": [],
   "source": [
    "#A score of the model using the unseen testing data\n",
    "#model2.score(X_test, y1_test)"
   ]
  },
  {
   "cell_type": "code",
   "execution_count": 81,
   "metadata": {},
   "outputs": [
    {
     "data": {
      "text/plain": [
       "LinearRegression()"
      ]
     },
     "execution_count": 81,
     "metadata": {},
     "output_type": "execute_result"
    }
   ],
   "source": [
    "#Plot the results of the regression model\n",
    "model2.fit(X_train_scaled, y_train_scaled)\n",
    "#plt.scatter(model2.predict(X_train_scaled), model2.predict(X_train_scaled) - y_train_scaled, c=\"blue\", label=\"Training Data\")\n",
    "#plt.scatter(model2.predict(X_test_scaled), model2.predict(X_test_scaled) - y_test_scaled, c=\"orange\", label=\"Testing Data\")\n",
    "#plt.legend()\n",
    "#plt.hlines(y=0, xmin=y_test_scaled.min(), xmax=y_test_scaled.max())\n",
    "#plt.title(\"Residual Plot\")\n",
    "#plt.show()"
   ]
  },
  {
   "cell_type": "markdown",
   "metadata": {},
   "source": [
    "# Training the Logistic regression model"
   ]
  },
  {
   "cell_type": "code",
   "execution_count": 82,
   "metadata": {},
   "outputs": [
    {
     "name": "stderr",
     "output_type": "stream",
     "text": [
      "C:\\Users\\muthukumar\\anaconda3\\lib\\site-packages\\sklearn\\utils\\validation.py:73: DataConversionWarning: A column-vector y was passed when a 1d array was expected. Please change the shape of y to (n_samples, ), for example using ravel().\n",
      "  return f(**kwargs)\n"
     ]
    },
    {
     "data": {
      "text/plain": [
       "LogisticRegression()"
      ]
     },
     "execution_count": 82,
     "metadata": {},
     "output_type": "execute_result"
    }
   ],
   "source": [
    "from sklearn.linear_model import LogisticRegression\n",
    "model3 = LogisticRegression()\n",
    "model3.fit(X_train,y1_train)"
   ]
  },
  {
   "cell_type": "code",
   "execution_count": 84,
   "metadata": {},
   "outputs": [],
   "source": [
    "#Logstic regression\n",
    "predictions = model3.predict(X_test)\n",
    "#predictions"
   ]
  },
  {
   "cell_type": "code",
   "execution_count": 85,
   "metadata": {},
   "outputs": [],
   "source": [
    "#A score of the model --#Logstic regression\n",
    "log_reg= model3.score(X_test, y1_test)\n",
    "predictions = model3.predict(X_test)\n",
    "#predictions"
   ]
  },
  {
   "cell_type": "code",
   "execution_count": 27,
   "metadata": {},
   "outputs": [
    {
     "name": "stdout",
     "output_type": "stream",
     "text": [
      "Accuracy of the prediction using Logistic Regression:85.38011695906432\n",
      "\n",
      "\n",
      "              precision    recall  f1-score   support\n",
      "\n",
      "           2       0.81      0.98      0.89       103\n",
      "           4       0.96      0.66      0.78        68\n",
      "\n",
      "    accuracy                           0.85       171\n",
      "   macro avg       0.89      0.82      0.84       171\n",
      "weighted avg       0.87      0.85      0.85       171\n",
      "\n"
     ]
    }
   ],
   "source": [
    "#Logstic regression\n",
    "print('Accuracy of the prediction using Logistic Regression:' + str(accuracy_score(y1_test, predictions)*100))\n",
    "from sklearn.metrics import classification_report\n",
    "print(\"\\n\")\n",
    "print(classification_report(y1_test, predictions))"
   ]
  },
  {
   "cell_type": "code",
   "execution_count": 28,
   "metadata": {},
   "outputs": [],
   "source": [
    "import matplotlib.pyplot as plt\n",
    "import seaborn as sns\n",
    "from sklearn import metrics"
   ]
  },
  {
   "cell_type": "code",
   "execution_count": 86,
   "metadata": {},
   "outputs": [],
   "source": [
    "#Logstic regression\n",
    "cm = metrics.confusion_matrix(y1_test, predictions)\n",
    "#print(cm)"
   ]
  },
  {
   "cell_type": "code",
   "execution_count": 100,
   "metadata": {},
   "outputs": [],
   "source": [
    "#plt.figure(figsize=(7,7))\n",
    "#ax = sns.heatmap(cm, annot=True, fmt=\".7f\", linewidths=.5, square = True, cmap = 'Greens_r');\n",
    "#plt.xlabel('Actual label');\n",
    "#plt.ylabel('Predicted label');\n",
    "#plt.title(f'Cancer-Prediction using logistic regression: {log_reg:.0%}', size=12)\n",
    "#plt.title(title, size = 15);\n",
    "#plt.savefig(\"bc_cnf_mtrx.png\")\n",
    "#sns.plt.show()"
   ]
  },
  {
   "cell_type": "code",
   "execution_count": 118,
   "metadata": {},
   "outputs": [],
   "source": [
    "cm_rfc = metrics.confusion_matrix(y_test, pred_rfc)\n",
    "rfc_scr = rfc.score(X_test, y_test)\n",
    "\n",
    "pred_svc = clf2.predict(X_test)\n",
    "cm_svc = metrics.confusion_matrix(y_test, pred_svc)\n",
    "svc_scr = clf2.score(X_test, y_test)"
   ]
  },
  {
   "cell_type": "code",
   "execution_count": 122,
   "metadata": {},
   "outputs": [
    {
     "data": {
      "image/png": "[encoded data removed]",
      "text/plain": [
       "<Figure size 432x288 with 8 Axes>"
      ]
     },
     "metadata": {
      "needs_background": "light"
     },
     "output_type": "display_data"
    }
   ],
   "source": [
    "fig2, axs = plt.subplots(nrows=2, ncols=2, constrained_layout=False)\n",
    "fig2.WindowState = 'maximized'\n",
    "#fig3 = plt.figure(figsize=(30,8))\n",
    "axs[0,0].plot = sns.heatmap(cm_xgb, annot=True, fmt=\".2f\", linewidths=.5, square = True, ax=axs[0,0])\n",
    "axs[0,0].set_title(f'Performance of XGB: {xgb_scr:.0%}', size=10)\n",
    "axs[0,1].plot = sns.heatmap(cm_rfc, annot=True, fmt=\".2f\", linewidths=.5, square = True,cmap = 'Blues_r',ax=axs[0,1])\n",
    "axs[0,1].set_title(f'Performance of RFC: {rfc_scr:.0%}', size=10)\n",
    "axs[1,0].plot = sns.heatmap(cm_svc, annot=True, fmt=\".2f\", linewidths=.5, square = True,ax=axs[1,0]);\n",
    "axs[1,0].set_title(f'Performance of SVC: {svc_scr:.0%}', size=10)\n",
    "axs[1,1].plot = sns.heatmap(cm, annot=True, fmt=\".2f\", linewidths=.5, square = True, ax=axs[1,1])\n",
    "axs[1,1].set_title(f'Performance of LGR: {log_reg:.0%}', size=10)   \n",
    "\n",
    "for ax in axs.flat:\n",
    "    ax.set(xlabel='Actual label', ylabel='Predicted label')\n",
    "# Hide x labels and tick labels for top plots and y ticks for right plots.\n",
    "for ax in axs.flat:\n",
    "    ax.label_outer()\n",
    "plt.tight_layout()\n",
    "\n",
    "fig2.savefig(\"bc_cnf_mtx.png\")"
   ]
  },
  {
   "cell_type": "code",
   "execution_count": 60,
   "metadata": {},
   "outputs": [
    {
     "data": {
      "image/png": "[encoded data removed]",
      "text/plain": [
       "<Figure size 720x720 with 2 Axes>"
      ]
     },
     "metadata": {
      "needs_background": "light"
     },
     "output_type": "display_data"
    }
   ],
   "source": [
    "fig2 = plt.figure(figsize=(10,10))\n",
    "corr = df1.loc[:,df1.dtypes == 'int64'].corr()\n",
    "sns.heatmap(corr, vmin=-1, vmax=1, annot=True, square = True,cmap=sns.diverging_palette(260, 15, as_cmap=True))\n",
    "plt.title(\"Feature Correlation - Cancer Data\", size = 15);\n",
    "plt.tick_params(axis='both', which='major', labelsize=14)\n",
    "fig2.savefig(\"bc_ftr_corr.png\",bbox_inches='tight')\n",
    "# shows 'sample code number need not be a fed to the model'"
   ]
  },
  {
   "cell_type": "code",
   "execution_count": 32,
   "metadata": {},
   "outputs": [
    {
     "name": "stderr",
     "output_type": "stream",
     "text": [
      "C:\\Users\\muthukumar\\anaconda3\\lib\\site-packages\\sklearn\\utils\\validation.py:73: DataConversionWarning: A column-vector y was passed when a 1d array was expected. Please change the shape of y to (n_samples, ), for example using ravel().\n",
      "  return f(**kwargs)\n"
     ]
    }
   ],
   "source": [
    "from sklearn.preprocessing import LabelEncoder\n",
    "# Step 1: Label-encode data set\n",
    "label_encoder = LabelEncoder()\n",
    "label_encoder.fit(y1_test)\n",
    "encoded_y = label_encoder.transform(y1_test)"
   ]
  },
  {
   "cell_type": "code",
   "execution_count": 31,
   "metadata": {},
   "outputs": [
    {
     "name": "stdout",
     "output_type": "stream",
     "text": [
      "Original Class: [4]\n",
      "Encoded Label: 1\n",
      "------------\n",
      "Original Class: [4]\n",
      "Encoded Label: 1\n",
      "------------\n",
      "Original Class: [2]\n",
      "Encoded Label: 0\n",
      "------------\n",
      "Original Class: [2]\n",
      "Encoded Label: 0\n",
      "------------\n",
      "Original Class: [2]\n",
      "Encoded Label: 0\n",
      "------------\n",
      "Original Class: [2]\n",
      "Encoded Label: 0\n",
      "------------\n",
      "Original Class: [2]\n",
      "Encoded Label: 0\n",
      "------------\n",
      "Original Class: [2]\n",
      "Encoded Label: 0\n",
      "------------\n",
      "Original Class: [4]\n",
      "Encoded Label: 1\n",
      "------------\n",
      "Original Class: [2]\n",
      "Encoded Label: 0\n",
      "------------\n",
      "Original Class: [2]\n",
      "Encoded Label: 0\n",
      "------------\n",
      "Original Class: [2]\n",
      "Encoded Label: 0\n",
      "------------\n",
      "Original Class: [2]\n",
      "Encoded Label: 0\n",
      "------------\n",
      "Original Class: [2]\n",
      "Encoded Label: 0\n",
      "------------\n",
      "Original Class: [4]\n",
      "Encoded Label: 1\n",
      "------------\n",
      "Original Class: [4]\n",
      "Encoded Label: 1\n",
      "------------\n",
      "Original Class: [2]\n",
      "Encoded Label: 0\n",
      "------------\n",
      "Original Class: [4]\n",
      "Encoded Label: 1\n",
      "------------\n",
      "Original Class: [2]\n",
      "Encoded Label: 0\n",
      "------------\n",
      "Original Class: [4]\n",
      "Encoded Label: 1\n",
      "------------\n",
      "Original Class: [4]\n",
      "Encoded Label: 1\n",
      "------------\n",
      "Original Class: [2]\n",
      "Encoded Label: 0\n",
      "------------\n",
      "Original Class: [4]\n",
      "Encoded Label: 1\n",
      "------------\n",
      "Original Class: [2]\n",
      "Encoded Label: 0\n",
      "------------\n",
      "Original Class: [2]\n",
      "Encoded Label: 0\n",
      "------------\n",
      "Original Class: [2]\n",
      "Encoded Label: 0\n",
      "------------\n",
      "Original Class: [4]\n",
      "Encoded Label: 1\n",
      "------------\n",
      "Original Class: [4]\n",
      "Encoded Label: 1\n",
      "------------\n",
      "Original Class: [2]\n",
      "Encoded Label: 0\n",
      "------------\n",
      "Original Class: [4]\n",
      "Encoded Label: 1\n",
      "------------\n",
      "Original Class: [2]\n",
      "Encoded Label: 0\n",
      "------------\n",
      "Original Class: [4]\n",
      "Encoded Label: 1\n",
      "------------\n",
      "Original Class: [4]\n",
      "Encoded Label: 1\n",
      "------------\n",
      "Original Class: [4]\n",
      "Encoded Label: 1\n",
      "------------\n",
      "Original Class: [2]\n",
      "Encoded Label: 0\n",
      "------------\n",
      "Original Class: [2]\n",
      "Encoded Label: 0\n",
      "------------\n",
      "Original Class: [4]\n",
      "Encoded Label: 1\n",
      "------------\n",
      "Original Class: [2]\n",
      "Encoded Label: 0\n",
      "------------\n",
      "Original Class: [4]\n",
      "Encoded Label: 1\n",
      "------------\n",
      "Original Class: [4]\n",
      "Encoded Label: 1\n",
      "------------\n",
      "Original Class: [2]\n",
      "Encoded Label: 0\n",
      "------------\n",
      "Original Class: [4]\n",
      "Encoded Label: 1\n",
      "------------\n",
      "Original Class: [4]\n",
      "Encoded Label: 1\n",
      "------------\n",
      "Original Class: [2]\n",
      "Encoded Label: 0\n",
      "------------\n",
      "Original Class: [2]\n",
      "Encoded Label: 0\n",
      "------------\n",
      "Original Class: [4]\n",
      "Encoded Label: 1\n",
      "------------\n",
      "Original Class: [2]\n",
      "Encoded Label: 0\n",
      "------------\n",
      "Original Class: [4]\n",
      "Encoded Label: 1\n",
      "------------\n",
      "Original Class: [2]\n",
      "Encoded Label: 0\n",
      "------------\n",
      "Original Class: [4]\n",
      "Encoded Label: 1\n",
      "------------\n",
      "Original Class: [2]\n",
      "Encoded Label: 0\n",
      "------------\n",
      "Original Class: [2]\n",
      "Encoded Label: 0\n",
      "------------\n",
      "Original Class: [2]\n",
      "Encoded Label: 0\n",
      "------------\n",
      "Original Class: [4]\n",
      "Encoded Label: 1\n",
      "------------\n",
      "Original Class: [2]\n",
      "Encoded Label: 0\n",
      "------------\n",
      "Original Class: [4]\n",
      "Encoded Label: 1\n",
      "------------\n",
      "Original Class: [4]\n",
      "Encoded Label: 1\n",
      "------------\n",
      "Original Class: [2]\n",
      "Encoded Label: 0\n",
      "------------\n",
      "Original Class: [2]\n",
      "Encoded Label: 0\n",
      "------------\n",
      "Original Class: [4]\n",
      "Encoded Label: 1\n",
      "------------\n",
      "Original Class: [2]\n",
      "Encoded Label: 0\n",
      "------------\n",
      "Original Class: [2]\n",
      "Encoded Label: 0\n",
      "------------\n",
      "Original Class: [2]\n",
      "Encoded Label: 0\n",
      "------------\n",
      "Original Class: [4]\n",
      "Encoded Label: 1\n",
      "------------\n",
      "Original Class: [2]\n",
      "Encoded Label: 0\n",
      "------------\n",
      "Original Class: [2]\n",
      "Encoded Label: 0\n",
      "------------\n",
      "Original Class: [4]\n",
      "Encoded Label: 1\n",
      "------------\n",
      "Original Class: [4]\n",
      "Encoded Label: 1\n",
      "------------\n",
      "Original Class: [2]\n",
      "Encoded Label: 0\n",
      "------------\n",
      "Original Class: [2]\n",
      "Encoded Label: 0\n",
      "------------\n",
      "Original Class: [4]\n",
      "Encoded Label: 1\n",
      "------------\n",
      "Original Class: [2]\n",
      "Encoded Label: 0\n",
      "------------\n",
      "Original Class: [2]\n",
      "Encoded Label: 0\n",
      "------------\n",
      "Original Class: [2]\n",
      "Encoded Label: 0\n",
      "------------\n",
      "Original Class: [4]\n",
      "Encoded Label: 1\n",
      "------------\n",
      "Original Class: [4]\n",
      "Encoded Label: 1\n",
      "------------\n",
      "Original Class: [2]\n",
      "Encoded Label: 0\n",
      "------------\n",
      "Original Class: [2]\n",
      "Encoded Label: 0\n",
      "------------\n",
      "Original Class: [4]\n",
      "Encoded Label: 1\n",
      "------------\n",
      "Original Class: [4]\n",
      "Encoded Label: 1\n",
      "------------\n",
      "Original Class: [4]\n",
      "Encoded Label: 1\n",
      "------------\n",
      "Original Class: [4]\n",
      "Encoded Label: 1\n",
      "------------\n",
      "Original Class: [2]\n",
      "Encoded Label: 0\n",
      "------------\n",
      "Original Class: [4]\n",
      "Encoded Label: 1\n",
      "------------\n",
      "Original Class: [2]\n",
      "Encoded Label: 0\n",
      "------------\n",
      "Original Class: [4]\n",
      "Encoded Label: 1\n",
      "------------\n",
      "Original Class: [2]\n",
      "Encoded Label: 0\n",
      "------------\n",
      "Original Class: [2]\n",
      "Encoded Label: 0\n",
      "------------\n",
      "Original Class: [4]\n",
      "Encoded Label: 1\n",
      "------------\n",
      "Original Class: [2]\n",
      "Encoded Label: 0\n",
      "------------\n",
      "Original Class: [2]\n",
      "Encoded Label: 0\n",
      "------------\n",
      "Original Class: [4]\n",
      "Encoded Label: 1\n",
      "------------\n",
      "Original Class: [2]\n",
      "Encoded Label: 0\n",
      "------------\n",
      "Original Class: [4]\n",
      "Encoded Label: 1\n",
      "------------\n",
      "Original Class: [2]\n",
      "Encoded Label: 0\n",
      "------------\n",
      "Original Class: [2]\n",
      "Encoded Label: 0\n",
      "------------\n",
      "Original Class: [4]\n",
      "Encoded Label: 1\n",
      "------------\n",
      "Original Class: [2]\n",
      "Encoded Label: 0\n",
      "------------\n",
      "Original Class: [2]\n",
      "Encoded Label: 0\n",
      "------------\n",
      "Original Class: [2]\n",
      "Encoded Label: 0\n",
      "------------\n",
      "Original Class: [2]\n",
      "Encoded Label: 0\n",
      "------------\n",
      "Original Class: [2]\n",
      "Encoded Label: 0\n",
      "------------\n",
      "Original Class: [4]\n",
      "Encoded Label: 1\n",
      "------------\n",
      "Original Class: [2]\n",
      "Encoded Label: 0\n",
      "------------\n",
      "Original Class: [4]\n",
      "Encoded Label: 1\n",
      "------------\n",
      "Original Class: [4]\n",
      "Encoded Label: 1\n",
      "------------\n",
      "Original Class: [2]\n",
      "Encoded Label: 0\n",
      "------------\n",
      "Original Class: [2]\n",
      "Encoded Label: 0\n",
      "------------\n",
      "Original Class: [4]\n",
      "Encoded Label: 1\n",
      "------------\n",
      "Original Class: [2]\n",
      "Encoded Label: 0\n",
      "------------\n",
      "Original Class: [4]\n",
      "Encoded Label: 1\n",
      "------------\n",
      "Original Class: [4]\n",
      "Encoded Label: 1\n",
      "------------\n",
      "Original Class: [4]\n",
      "Encoded Label: 1\n",
      "------------\n",
      "Original Class: [2]\n",
      "Encoded Label: 0\n",
      "------------\n",
      "Original Class: [2]\n",
      "Encoded Label: 0\n",
      "------------\n",
      "Original Class: [2]\n",
      "Encoded Label: 0\n",
      "------------\n",
      "Original Class: [4]\n",
      "Encoded Label: 1\n",
      "------------\n",
      "Original Class: [2]\n",
      "Encoded Label: 0\n",
      "------------\n",
      "Original Class: [2]\n",
      "Encoded Label: 0\n",
      "------------\n",
      "Original Class: [2]\n",
      "Encoded Label: 0\n",
      "------------\n",
      "Original Class: [4]\n",
      "Encoded Label: 1\n",
      "------------\n",
      "Original Class: [4]\n",
      "Encoded Label: 1\n",
      "------------\n",
      "Original Class: [2]\n",
      "Encoded Label: 0\n",
      "------------\n",
      "Original Class: [2]\n",
      "Encoded Label: 0\n",
      "------------\n",
      "Original Class: [2]\n",
      "Encoded Label: 0\n",
      "------------\n",
      "Original Class: [2]\n",
      "Encoded Label: 0\n",
      "------------\n",
      "Original Class: [4]\n",
      "Encoded Label: 1\n",
      "------------\n",
      "Original Class: [2]\n",
      "Encoded Label: 0\n",
      "------------\n",
      "Original Class: [4]\n",
      "Encoded Label: 1\n",
      "------------\n",
      "Original Class: [2]\n",
      "Encoded Label: 0\n",
      "------------\n",
      "Original Class: [2]\n",
      "Encoded Label: 0\n",
      "------------\n",
      "Original Class: [2]\n",
      "Encoded Label: 0\n",
      "------------\n",
      "Original Class: [4]\n",
      "Encoded Label: 1\n",
      "------------\n",
      "Original Class: [4]\n",
      "Encoded Label: 1\n",
      "------------\n",
      "Original Class: [4]\n",
      "Encoded Label: 1\n",
      "------------\n",
      "Original Class: [2]\n",
      "Encoded Label: 0\n",
      "------------\n",
      "Original Class: [2]\n",
      "Encoded Label: 0\n",
      "------------\n",
      "Original Class: [2]\n",
      "Encoded Label: 0\n",
      "------------\n",
      "Original Class: [4]\n",
      "Encoded Label: 1\n",
      "------------\n",
      "Original Class: [2]\n",
      "Encoded Label: 0\n",
      "------------\n",
      "Original Class: [4]\n",
      "Encoded Label: 1\n",
      "------------\n",
      "Original Class: [2]\n",
      "Encoded Label: 0\n",
      "------------\n",
      "Original Class: [2]\n",
      "Encoded Label: 0\n",
      "------------\n",
      "Original Class: [2]\n",
      "Encoded Label: 0\n",
      "------------\n",
      "Original Class: [4]\n",
      "Encoded Label: 1\n",
      "------------\n",
      "Original Class: [4]\n",
      "Encoded Label: 1\n",
      "------------\n",
      "Original Class: [2]\n",
      "Encoded Label: 0\n",
      "------------\n",
      "Original Class: [2]\n",
      "Encoded Label: 0\n",
      "------------\n",
      "Original Class: [2]\n",
      "Encoded Label: 0\n",
      "------------\n",
      "Original Class: [2]\n",
      "Encoded Label: 0\n",
      "------------\n",
      "Original Class: [2]\n",
      "Encoded Label: 0\n",
      "------------\n",
      "Original Class: [2]\n",
      "Encoded Label: 0\n",
      "------------\n",
      "Original Class: [4]\n",
      "Encoded Label: 1\n",
      "------------\n",
      "Original Class: [2]\n",
      "Encoded Label: 0\n",
      "------------\n",
      "Original Class: [2]\n",
      "Encoded Label: 0\n",
      "------------\n",
      "Original Class: [2]\n",
      "Encoded Label: 0\n",
      "------------\n",
      "Original Class: [2]\n",
      "Encoded Label: 0\n",
      "------------\n",
      "Original Class: [2]\n",
      "Encoded Label: 0\n",
      "------------\n",
      "Original Class: [4]\n",
      "Encoded Label: 1\n",
      "------------\n",
      "Original Class: [2]\n",
      "Encoded Label: 0\n",
      "------------\n",
      "Original Class: [4]\n",
      "Encoded Label: 1\n",
      "------------\n",
      "Original Class: [2]\n",
      "Encoded Label: 0\n",
      "------------\n",
      "Original Class: [2]\n",
      "Encoded Label: 0\n",
      "------------\n",
      "Original Class: [2]\n",
      "Encoded Label: 0\n",
      "------------\n",
      "Original Class: [2]\n",
      "Encoded Label: 0\n",
      "------------\n",
      "Original Class: [2]\n",
      "Encoded Label: 0\n",
      "------------\n",
      "Original Class: [2]\n",
      "Encoded Label: 0\n",
      "------------\n",
      "Original Class: [2]\n",
      "Encoded Label: 0\n",
      "------------\n",
      "Original Class: [4]\n",
      "Encoded Label: 1\n",
      "------------\n",
      "Original Class: [4]\n",
      "Encoded Label: 1\n",
      "------------\n",
      "Original Class: [4]\n",
      "Encoded Label: 1\n",
      "------------\n"
     ]
    }
   ],
   "source": [
    "for label, original_class in zip(encoded_y, y1_test):\n",
    "    print('Original Class: ' + str(original_class))\n",
    "    print('Encoded Label: ' + str(label))\n",
    "    print('-' * 12)"
   ]
  },
  {
   "cell_type": "code",
   "execution_count": 32,
   "metadata": {},
   "outputs": [
    {
     "name": "stdout",
     "output_type": "stream",
     "text": [
      "Requirement already satisfied: keras in c:\\users\\muthukumar\\anaconda3\\lib\\site-packages (2.4.3)\n",
      "Requirement already satisfied: h5py in c:\\users\\muthukumar\\anaconda3\\lib\\site-packages (from keras) (2.10.0)\n",
      "Requirement already satisfied: numpy>=1.9.1 in c:\\users\\muthukumar\\anaconda3\\lib\\site-packages (from keras) (1.19.5)\n",
      "Requirement already satisfied: pyyaml in c:\\users\\muthukumar\\anaconda3\\lib\\site-packages (from keras) (5.3.1)\n",
      "Requirement already satisfied: scipy>=0.14 in c:\\users\\muthukumar\\anaconda3\\lib\\site-packages (from keras) (1.5.0)\n",
      "Requirement already satisfied: six in c:\\users\\muthukumar\\anaconda3\\lib\\site-packages (from h5py->keras) (1.15.0)\n"
     ]
    }
   ],
   "source": [
    "!pip install keras"
   ]
  },
  {
   "cell_type": "code",
   "execution_count": 33,
   "metadata": {},
   "outputs": [],
   "source": [
    "from keras.utils import to_categorical\n",
    "labels=df1.loc[:,'Status'].values\n",
    "y1_test=labels\n",
    "# Step 2: One-hot encoding\n",
    "one_hot_y = to_categorical(encoded_y)\n",
    "#one_hot_y"
   ]
  },
  {
   "cell_type": "code",
   "execution_count": 34,
   "metadata": {},
   "outputs": [
    {
     "data": {
      "text/plain": [
       "171"
      ]
     },
     "execution_count": 34,
     "metadata": {},
     "output_type": "execute_result"
    }
   ],
   "source": [
    "len(one_hot_y)"
   ]
  },
  {
   "cell_type": "code",
   "execution_count": 34,
   "metadata": {},
   "outputs": [
    {
     "name": "stdout",
     "output_type": "stream",
     "text": [
      "0.8211736150770987\n"
     ]
    }
   ],
   "source": [
    "#Logistic regresion roc_curve\n",
    "from sklearn.metrics import roc_auc_score\n",
    "from sklearn.metrics import roc_curve\n",
    "logit_roc_auc = roc_auc_score(one_hot_y[:,1], model3.predict(X_test))\n",
    "print(logit_roc_auc)"
   ]
  },
  {
   "cell_type": "code",
   "execution_count": 43,
   "metadata": {},
   "outputs": [
    {
     "name": "stderr",
     "output_type": "stream",
     "text": [
      "No handles with labels found to put in legend.\n"
     ]
    },
    {
     "name": "stdout",
     "output_type": "stream",
     "text": [
      "\n",
      "\n"
     ]
    },
    {
     "data": {
      "image/png": "[encoded data removed]",
      "text/plain": [
       "<Figure size 432x288 with 1 Axes>"
      ]
     },
     "metadata": {
      "needs_background": "light"
     },
     "output_type": "display_data"
    }
   ],
   "source": [
    "#fpr, tpr, thresholds = roc_curve(y1_test.flatten(), model3.predict_proba(X_test)[:,1], pos_label=2)\n",
    "fpr, tpr, thresholds = roc_curve(one_hot_y[:,1], model3.predict_proba(X_test)[:,1])\n",
    "lw=2.5\n",
    "plt.figure()\n",
    "ax = plt.gca()\n",
    "plt.legend(loc=\"lower right\")\n",
    "#ROC calc for logisticRegression classifier\n",
    "lgrc_disp = plt.plot(fpr, tpr, color='blueviolet',lw=lw,label=f'Logistic Regression {logit_roc_auc:.0%}')\n",
    "plt.plot(fpr, tpr)\n",
    "plt.plot([0, 1], ls=\"--\")\n",
    "plt.plot([0, 0], [1, 0] , c=\".7\"), plt.plot([1, 1] , c=\".7\")\n",
    "plt.ylabel('True Positive Rate')\n",
    "plt.xlabel('False Positive Rate')\n",
    "plt.title('ROC - Logistic regression')\n",
    "plt.legend(loc='lower right')\n",
    "print(\"\\n\")\n",
    "#lgrc_disp = metrics.plot_roc_curve(model3, X_test, y1_test, ax=ax,color='darkorange',lw=lw,alpha=0.8,drop_intermediate=False)\n",
    "plt.savefig(\"bc_LGR-ROC.png\",bbox_inches='tight')"
   ]
  },
  {
   "cell_type": "code",
   "execution_count": 56,
   "metadata": {},
   "outputs": [
    {
     "data": {
      "image/png": "[encoded data removed]",
      "text/plain": [
       "<Figure size 432x288 with 1 Axes>"
      ]
     },
     "metadata": {
      "needs_background": "light"
     },
     "output_type": "display_data"
    },
    {
     "data": {
      "text/plain": [
       "<Figure size 432x288 with 0 Axes>"
      ]
     },
     "metadata": {},
     "output_type": "display_data"
    }
   ],
   "source": [
    "\n",
    "#Logistic Regression - Stratified fold -- ROC \n",
    "tprs1 = []\n",
    "aucs1 = []\n",
    "mean_fpr1 = np.linspace(0, 1, 100)\n",
    "cv = StratifiedKFold(n_splits=6)\n",
    "\n",
    "fig, ax = plt.subplots()\n",
    "for i, (train, test) in enumerate(cv.split(X,y)):\n",
    "    model3.fit(X[train], y[train])\n",
    "    viz = plot_roc_curve(model3, X[test], y[test], name='ROC fold {}'.format(i),alpha=0.3, lw=1, ax=ax)\n",
    "    interp_tpr1 = np.interp(mean_fpr1, viz.fpr, viz.tpr)\n",
    "    interp_tpr[0] = 0.0\n",
    "    tprs1.append(interp_tpr1)\n",
    "    aucs1.append(viz.roc_auc)\n",
    "\n",
    "ax.plot([0, 1], [0, 1], linestyle='--', lw=2, color='r',label='Chance', alpha=.8)\n",
    "mean_tpr1 = np.mean(tprs1, axis=0)\n",
    "mean_tpr1[-1] = 1.0\n",
    "mean_auc1 = auc(mean_fpr1, mean_tpr1)\n",
    "std_auc1 = np.std(aucs1)\n",
    "ax.plot(mean_fpr1, mean_tpr1, color='b',label=r'Mean ROC (AUC = %0.2f $\\pm$ %0.2f)' % (mean_auc1, std_auc1),lw=2, alpha=.8)\n",
    "std_tpr1 = np.std(tprs1, axis=0)\n",
    "tprs_upper1 = np.minimum(mean_tpr1 + std_tpr1, 1)\n",
    "tprs_lower1 = np.maximum(mean_tpr1 - std_tpr1, 0)\n",
    "ax.fill_between(mean_fpr1, tprs_lower1, tprs_upper1, color='grey', alpha=.2,label=r'$\\pm$ 1 std. dev.')\n",
    "ax.set(xlim=[-0.05, 1.05], ylim=[-0.05, 1.05],title=\"ROC with cross validation - LogisticRegression\")\n",
    "ax.legend(loc=\"lower right\")\n",
    "plt.show()\n",
    "plt.savefig(\"bc_LGR-ROC-2.png\",bbox_inches='tight')"
   ]
  },
  {
   "cell_type": "code",
   "execution_count": 45,
   "metadata": {},
   "outputs": [
    {
     "data": {
      "text/plain": [
       "683"
      ]
     },
     "execution_count": 45,
     "metadata": {},
     "output_type": "execute_result"
    }
   ],
   "source": [
    "#type(y1_test)\n",
    "#y1_test.shape\n",
    "#y1_test_flattened = y1_test.flatten()\n",
    "len(y1_test.flatten())"
   ]
  },
  {
   "cell_type": "code",
   "execution_count": null,
   "metadata": {},
   "outputs": [],
   "source": [
    "#print(y1_test.flatten())"
   ]
  },
  {
   "cell_type": "code",
   "execution_count": null,
   "metadata": {},
   "outputs": [],
   "source": [
    "#plt.figure()\n",
    "#plt.plot(fpr, tpr, label='Logistic Regression (area = %0.2f)' % logit_roc_auc)\n",
    "#plt.plot([0, 1], [0, 1],'r--')\n",
    "#plt.xlim([0.0, 1.0])\n",
    "#plt.ylim([0.0, 1.05])\n",
    "#plt.xlabel('False Positive Rate')\n",
    "#plt.ylabel('True Positive Rate')\n",
    "#plt.title('Receiver operating characteristic')\n",
    "#plt.legend(loc=\"lower right\")\n",
    "#plt.savefig('Log_ROC')\n",
    "#plt.show()"
   ]
  },
  {
   "cell_type": "code",
   "execution_count": null,
   "metadata": {},
   "outputs": [],
   "source": [
    "#sns.boxplot(x='diagnosis', y='area_mean', data=df2)"
   ]
  },
  {
   "cell_type": "code",
   "execution_count": null,
   "metadata": {},
   "outputs": [],
   "source": [
    "#sns.boxplot(x='diagnosis', y='mean_area', data=df3)"
   ]
  },
  {
   "cell_type": "markdown",
   "metadata": {},
   "source": [
    "# Data Exploration --- checking for imbalance in data"
   ]
  },
  {
   "cell_type": "code",
   "execution_count": 104,
   "metadata": {},
   "outputs": [
    {
     "data": {
      "text/plain": [
       "2    444\n",
       "4    239\n",
       "Name: Status, dtype: int64"
      ]
     },
     "execution_count": 104,
     "metadata": {},
     "output_type": "execute_result"
    }
   ],
   "source": [
    "X, y = datasets.make_classification(random_state=0)\n",
    "#print(y)\n",
    "df1['Status'].value_counts()"
   ]
  },
  {
   "cell_type": "code",
   "execution_count": 105,
   "metadata": {},
   "outputs": [
    {
     "data": {
      "image/png": "[encoded data removed]",
      "text/plain": [
       "<Figure size 432x288 with 1 Axes>"
      ]
     },
     "metadata": {
      "needs_background": "light"
     },
     "output_type": "display_data"
    }
   ],
   "source": [
    "ax = sns.countplot(x=\"Status\", data=df1, palette=\"hls\")\n",
    "plt.savefig(\"de_bc_dataImb.png\",bbox_inches='tight')"
   ]
  },
  {
   "cell_type": "code",
   "execution_count": 106,
   "metadata": {},
   "outputs": [
    {
     "data": {
      "image/png": "[encoded data removed]",
      "text/plain": [
       "<Figure size 447.375x360 with 1 Axes>"
      ]
     },
     "metadata": {
      "needs_background": "light"
     },
     "output_type": "display_data"
    },
    {
     "data": {
      "text/plain": [
       "<Figure size 432x288 with 0 Axes>"
      ]
     },
     "metadata": {},
     "output_type": "display_data"
    }
   ],
   "source": [
    "#sns.countplot(x='Status', data=df1,palette='Set2')\n",
    "g = sns.catplot(x=\"Status\", hue=\"Normal Nucleoli\", data=df1, kind=\"count\", height=5, aspect=1);\n",
    "plt.show()\n",
    "plt.savefig(\"de_bc_dataImb-2.png\",bbox_inches='tight')\n",
    "#2 for benign, 4 for malignant"
   ]
  },
  {
   "cell_type": "code",
   "execution_count": 107,
   "metadata": {},
   "outputs": [
    {
     "name": "stdout",
     "output_type": "stream",
     "text": [
      "benign percentage is 65.00732064421669\n",
      "malignant cancer percentage  34.99267935578331\n"
     ]
    }
   ],
   "source": [
    "count_benign = len(df1[df1['Status']==2])\n",
    "count_malignant = len(df1[df1['Status']==4])\n",
    "pct_of_benign = count_benign/(count_benign+count_malignant)\n",
    "print(\"benign percentage is\",pct_of_benign*100)\n",
    "pct_of_malignant = count_malignant/(count_benign+count_malignant)\n",
    "print(\"malignant cancer percentage \", pct_of_malignant*100)"
   ]
  },
  {
   "cell_type": "code",
   "execution_count": 51,
   "metadata": {},
   "outputs": [
    {
     "data": {
      "text/html": [
       "<div>\n",
       "<style scoped>\n",
       "    .dataframe tbody tr th:only-of-type {\n",
       "        vertical-align: middle;\n",
       "    }\n",
       "\n",
       "    .dataframe tbody tr th {\n",
       "        vertical-align: top;\n",
       "    }\n",
       "\n",
       "    .dataframe thead th {\n",
       "        text-align: right;\n",
       "    }\n",
       "</style>\n",
       "<table border=\"1\" class=\"dataframe\">\n",
       "  <thead>\n",
       "    <tr style=\"text-align: right;\">\n",
       "      <th></th>\n",
       "      <th>Sample code number</th>\n",
       "      <th>Clump Thickness</th>\n",
       "      <th>Uniformity of Cell Size</th>\n",
       "      <th>Uniformity of Cell Shape</th>\n",
       "      <th>Marginal Adhesion</th>\n",
       "      <th>Single Epithelial Cell Size</th>\n",
       "      <th>Bare Nuclei</th>\n",
       "      <th>Bland Chromatin</th>\n",
       "      <th>Normal Nucleoli</th>\n",
       "      <th>Mitoses</th>\n",
       "    </tr>\n",
       "    <tr>\n",
       "      <th>Status</th>\n",
       "      <th></th>\n",
       "      <th></th>\n",
       "      <th></th>\n",
       "      <th></th>\n",
       "      <th></th>\n",
       "      <th></th>\n",
       "      <th></th>\n",
       "      <th></th>\n",
       "      <th></th>\n",
       "      <th></th>\n",
       "    </tr>\n",
       "  </thead>\n",
       "  <tbody>\n",
       "    <tr>\n",
       "      <th>2</th>\n",
       "      <td>1.115261e+06</td>\n",
       "      <td>2.963964</td>\n",
       "      <td>1.306306</td>\n",
       "      <td>1.414414</td>\n",
       "      <td>1.346847</td>\n",
       "      <td>2.108108</td>\n",
       "      <td>1.346847</td>\n",
       "      <td>2.083333</td>\n",
       "      <td>1.261261</td>\n",
       "      <td>1.065315</td>\n",
       "    </tr>\n",
       "    <tr>\n",
       "      <th>4</th>\n",
       "      <td>1.005121e+06</td>\n",
       "      <td>7.188285</td>\n",
       "      <td>6.577406</td>\n",
       "      <td>6.560669</td>\n",
       "      <td>5.585774</td>\n",
       "      <td>5.326360</td>\n",
       "      <td>7.627615</td>\n",
       "      <td>5.974895</td>\n",
       "      <td>5.857741</td>\n",
       "      <td>2.602510</td>\n",
       "    </tr>\n",
       "  </tbody>\n",
       "</table>\n",
       "</div>"
      ],
      "text/plain": [
       "        Sample code number  Clump Thickness  Uniformity of Cell Size  \\\n",
       "Status                                                                 \n",
       "2             1.115261e+06         2.963964                 1.306306   \n",
       "4             1.005121e+06         7.188285                 6.577406   \n",
       "\n",
       "        Uniformity of Cell Shape  Marginal Adhesion  \\\n",
       "Status                                                \n",
       "2                       1.414414           1.346847   \n",
       "4                       6.560669           5.585774   \n",
       "\n",
       "        Single Epithelial Cell Size  Bare Nuclei  Bland Chromatin  \\\n",
       "Status                                                              \n",
       "2                          2.108108     1.346847         2.083333   \n",
       "4                          5.326360     7.627615         5.974895   \n",
       "\n",
       "        Normal Nucleoli   Mitoses  \n",
       "Status                             \n",
       "2              1.261261  1.065315  \n",
       "4              5.857741  2.602510  "
      ]
     },
     "execution_count": 51,
     "metadata": {},
     "output_type": "execute_result"
    }
   ],
   "source": [
    "df1.groupby('Status').mean()"
   ]
  },
  {
   "cell_type": "markdown",
   "metadata": {},
   "source": [
    "# SVC  Model & precision-recall curve "
   ]
  },
  {
   "cell_type": "code",
   "execution_count": 117,
   "metadata": {},
   "outputs": [
    {
     "name": "stdout",
     "output_type": "stream",
     "text": [
      "Average precision-recall score - SVC: 0.92\n",
      "              precision    recall  f1-score   support\n",
      "\n",
      "           0       0.86      0.92      0.89        13\n",
      "           1       0.91      0.83      0.87        12\n",
      "\n",
      "    accuracy                           0.88        25\n",
      "   macro avg       0.88      0.88      0.88        25\n",
      "weighted avg       0.88      0.88      0.88        25\n",
      "\n"
     ]
    },
    {
     "data": {
      "image/png": "[encoded data removed]",
      "text/plain": [
       "<Figure size 432x288 with 1 Axes>"
      ]
     },
     "metadata": {
      "needs_background": "light"
     },
     "output_type": "display_data"
    }
   ],
   "source": [
    "import matplotlib.pyplot as plt\n",
    "from sklearn.svm import SVC\n",
    "from sklearn import datasets, metrics, model_selection, svm\n",
    "\n",
    "X_train, X_test, y_train, y_test = model_selection.train_test_split( X, y, random_state=0)\n",
    "\n",
    "#Training and fitting a SupportVectorClassifier, roc_curve calc\n",
    "clf2 = svm.SVC(random_state=0)\n",
    "clf2.fit(X_train, y_train)\n",
    "SVC(random_state=0)\n",
    "#svc_disp = metrics.plot_roc_curve(clf2, X_test, y_test, color='fuchsia',lw=lw,alpha=0.8)\n",
    "y_score = clf2.decision_function(X_test)\n",
    "\n",
    "pred_svc = clf2.predict(X_test)\n",
    "cm_svc = metrics.confusion_matrix(y_test, pred_svc)\n",
    "svc_scr = clf2.score(X_test, y_test)\n",
    "\n",
    "\n",
    "from sklearn.metrics import precision_recall_curve\n",
    "from sklearn.metrics import plot_precision_recall_curve\n",
    "from sklearn.metrics import average_precision_score\n",
    "average_precision = average_precision_score(y_test, y_score)\n",
    "\n",
    "print('Average precision-recall score - SVC: {0:0.2f}'.format(\n",
    "      average_precision))\n",
    "\n",
    "svc_disp = plot_precision_recall_curve(clf2, X_test, y_test, lw=2.5, color='red')\n",
    "svc_disp.ax_.set_title('2-class Precision-Recall curve: '  'AP={0:0.2f}'.format(average_precision))\n",
    "\n",
    "#Precision-Recall is a useful measure of success of prediction when the classes are very imbalanced.\n",
    "#In information retrieval, precision is a measure of result relevancy, while recall is a measure of how many truly relevant results are returned.\n",
    "svc_predictions = clf2.predict(X_test)\n",
    "print(classification_report(y_test, svc_predictions))\n",
    "\n",
    "plt.savefig(\"bc_svc-PrRc.png\",bbox_inches='tight')"
   ]
  },
  {
   "cell_type": "markdown",
   "metadata": {},
   "source": [
    "# Random Forest Classifier"
   ]
  },
  {
   "cell_type": "code",
   "execution_count": 112,
   "metadata": {},
   "outputs": [
    {
     "data": {
      "image/png": "[encoded data removed]",
      "text/plain": [
       "<Figure size 432x288 with 1 Axes>"
      ]
     },
     "metadata": {
      "needs_background": "light"
     },
     "output_type": "display_data"
    }
   ],
   "source": [
    "#Training and fitting a RandomForestClassifier, roc_curve calc\n",
    "rfc = RandomForestClassifier(n_estimators=10, random_state=42)\n",
    "rfc.fit(X_train, y_train)\n",
    "ax = plt.gca()\n",
    "rfc_disp = metrics.plot_roc_curve(rfc, X_test, y_test, ax=ax, color='blue',lw=lw, alpha=0.8)\n",
    "\n",
    "pred_rfc = rfc.predict(X_test)\n",
    "cm_rfc = metrics.confusion_matrix(y_test, pred_rfc)\n",
    "rfc_scr = rfc.score(X_test, y_test)\n"
   ]
  },
  {
   "cell_type": "code",
   "execution_count": null,
   "metadata": {},
   "outputs": [],
   "source": [
    "#results = model3.predict_proba(X_test)\n",
    "#print(results)"
   ]
  },
  {
   "cell_type": "code",
   "execution_count": null,
   "metadata": {},
   "outputs": [],
   "source": [
    "#len(results)"
   ]
  },
  {
   "cell_type": "code",
   "execution_count": null,
   "metadata": {},
   "outputs": [],
   "source": [
    "#type(results)"
   ]
  },
  {
   "cell_type": "code",
   "execution_count": null,
   "metadata": {},
   "outputs": [],
   "source": [
    "#result1 = model3.predict_proba(X_test)[:,1]\n",
    "#result1"
   ]
  },
  {
   "cell_type": "code",
   "execution_count": null,
   "metadata": {},
   "outputs": [],
   "source": [
    "#len(result1)"
   ]
  },
  {
   "cell_type": "code",
   "execution_count": null,
   "metadata": {},
   "outputs": [],
   "source": [
    "#print(y1_train)\n",
    "#len(y1_train)"
   ]
  },
  {
   "cell_type": "markdown",
   "metadata": {},
   "source": [
    "# ROC with SVC"
   ]
  },
  {
   "cell_type": "code",
   "execution_count": 55,
   "metadata": {},
   "outputs": [
    {
     "data": {
      "image/png": "[encoded data removed]",
      "text/plain": [
       "<Figure size 432x288 with 1 Axes>"
      ]
     },
     "metadata": {
      "needs_background": "light"
     },
     "output_type": "display_data"
    },
    {
     "data": {
      "text/plain": [
       "<Figure size 432x288 with 0 Axes>"
      ]
     },
     "metadata": {},
     "output_type": "display_data"
    }
   ],
   "source": [
    "from sklearn.model_selection import StratifiedKFold\n",
    "# Add noisy features\n",
    "random_state = np.random.RandomState(0)\n",
    "from sklearn.metrics import plot_roc_curve\n",
    "from sklearn.metrics import auc\n",
    "cv = StratifiedKFold(n_splits=6)\n",
    "clf3 = svm.SVC(kernel='linear', probability=True,random_state=random_state)\n",
    "\n",
    "\n",
    "\n",
    "tprs = []\n",
    "aucs = []\n",
    "mean_fpr = np.linspace(0, 1, 100)\n",
    "\n",
    "fig, ax = plt.subplots()\n",
    "for i, (train, test) in enumerate(cv.split(X, y)):\n",
    "    clf3.fit(X[train], y[train])\n",
    "    viz = plot_roc_curve(clf3, X[test], y[test], name='ROC fold {}'.format(i),alpha=0.3, lw=1, ax=ax)\n",
    "    interp_tpr = np.interp(mean_fpr, viz.fpr, viz.tpr)\n",
    "    interp_tpr[0] = 0.0\n",
    "    tprs.append(interp_tpr)\n",
    "    aucs.append(viz.roc_auc)\n",
    "\n",
    "ax.plot([0, 1], [0, 1], linestyle='--', lw=2, color='r',label='Chance', alpha=.8)\n",
    "mean_tpr = np.mean(tprs, axis=0)\n",
    "mean_tpr[-1] = 1.0\n",
    "mean_auc = auc(mean_fpr, mean_tpr)\n",
    "std_auc = np.std(aucs)\n",
    "ax.plot(mean_fpr, mean_tpr, color='b',label=r'Mean ROC (AUC = %0.2f $\\pm$ %0.2f)' % (mean_auc, std_auc),lw=2, alpha=.8)\n",
    "std_tpr = np.std(tprs, axis=0)\n",
    "tprs_upper = np.minimum(mean_tpr + std_tpr, 1)\n",
    "tprs_lower = np.maximum(mean_tpr - std_tpr, 0)\n",
    "ax.fill_between(mean_fpr, tprs_lower, tprs_upper, color='grey', alpha=.2,label=r'$\\pm$ 1 std. dev.')\n",
    "ax.set(xlim=[-0.05, 1.05], ylim=[-0.05, 1.05],title=\"ROC with cross validation - svm.SVC\")\n",
    "ax.legend(loc=\"lower right\")\n",
    "plt.show()\n",
    "plt.savefig(\"bc_SVC-ROC-Crossval.png\",bbox_inches='tight')"
   ]
  }
 ],
 "metadata": {
  "kernelspec": {
   "display_name": "Python 3",
   "language": "python",
   "name": "python3"
  },
  "language_info": {
   "codemirror_mode": {
    "name": "ipython",
    "version": 3
   },
   "file_extension": ".py",
   "mimetype": "text/x-python",
   "name": "python",
   "nbconvert_exporter": "python",
   "pygments_lexer": "ipython3",
   "version": "3.8.3"
  }
 },
 "nbformat": 4,
 "nbformat_minor": 4
}
